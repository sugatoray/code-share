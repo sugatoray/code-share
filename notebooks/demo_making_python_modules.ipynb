{
  "nbformat": 4,
  "nbformat_minor": 0,
  "metadata": {
    "colab": {
      "name": "demo_making_python_modules.ipynb",
      "provenance": [],
      "collapsed_sections": [],
      "authorship_tag": "ABX9TyPfkQYcc097xSx8vgz/kSbE",
      "include_colab_link": true
    },
    "kernelspec": {
      "name": "python3",
      "display_name": "Python 3"
    },
    "language_info": {
      "name": "python"
    }
  },
  "cells": [
    {
      "cell_type": "markdown",
      "metadata": {
        "id": "view-in-github",
        "colab_type": "text"
      },
      "source": [
        "<a href=\"https://colab.research.google.com/github/sugatoray/code-share/blob/master/notebooks/demo_making_python_modules.ipynb\" target=\"_parent\"><img src=\"https://colab.research.google.com/assets/colab-badge.svg\" alt=\"Open In Colab\"/></a>"
      ]
    },
    {
      "cell_type": "markdown",
      "source": [
        "# 🔔 **An example of creating a python module in Google Colab**"
      ],
      "metadata": {
        "id": "N5mhCZFqjiLg"
      }
    },
    {
      "cell_type": "markdown",
      "source": [
        "Install `tree` in colab so you could see the package directory tree conveniently."
      ],
      "metadata": {
        "id": "YQjN9K59jdIY"
      }
    },
    {
      "cell_type": "code",
      "execution_count": 1,
      "metadata": {
        "id": "AJKjp6JKjPtF"
      },
      "outputs": [],
      "source": [
        "%%capture\n",
        "! sudo apt install tree"
      ]
    },
    {
      "cell_type": "markdown",
      "source": [
        "Create the package root directory (this will be the name of the repository, if you were to sync with GitHub)."
      ],
      "metadata": {
        "id": "eayCtFJIjmqa"
      }
    },
    {
      "cell_type": "code",
      "source": [
        "PACKAGE_ROOT = \"humpty_dumpty\"\n",
        "PACKAGE_NAME = \"humpty\""
      ],
      "metadata": {
        "id": "P5kih6gj_PmT"
      },
      "execution_count": 2,
      "outputs": []
    },
    {
      "cell_type": "code",
      "source": [
        "import os\n",
        "\n",
        "os.chdir(\"/content\")\n",
        "\n",
        "COLAB_HOME = os.path.abspath(os.curdir)\n",
        "PACKAGE_ROOT_PATH = os.path.join(COLAB_HOME, PACKAGE_ROOT)\n",
        "print(f\"\"\"\\n\n",
        "PACKAGE_ROOT: {PACKAGE_ROOT}\n",
        "PACKAGE_NAME: {PACKAGE_NAME}\n",
        "COLAB_HOME: {COLAB_HOME}\n",
        "\\n\"\"\")\n",
        "\n",
        "# Create directory\n",
        "# ! mkdir -p {PACKAGE_ROOT}\n",
        "os.makedirs(PACKAGE_ROOT_PATH, exist_ok=True)"
      ],
      "metadata": {
        "colab": {
          "base_uri": "https://localhost:8080/"
        },
        "id": "zRlrl8svjfsM",
        "outputId": "a523b21f-dba6-4737-d8c9-3fd38797cde7"
      },
      "execution_count": 3,
      "outputs": [
        {
          "output_type": "stream",
          "name": "stdout",
          "text": [
            "\n",
            "\n",
            "PACKAGE_ROOT: humpty_dumpty\n",
            "PACKAGE_NAME: humpty\n",
            "COLAB_HOME: /content\n",
            "\n",
            "\n"
          ]
        }
      ]
    },
    {
      "cell_type": "code",
      "source": [
        "%%writefile {PACKAGE_ROOT_PATH}/Makefile\n",
        ".PHONY: clean\n",
        "\n",
        "clean:\n",
        "\t@ echo \"🪣 Cleaning repository ... ⏳\"\n",
        "\trm -rf \\\n",
        "\t\t.ipynb_checkpoints **/.ipynb_checkpoints \\\n",
        "\t\t.pytest_cache **/.pytest_cache \\\n",
        "\t\t**/__pycache__ **/**/__pycache__"
      ],
      "metadata": {
        "id": "TG2DWOG98hOB",
        "outputId": "092cd83b-691f-42fb-86be-7cc58996bb70",
        "colab": {
          "base_uri": "https://localhost:8080/"
        }
      },
      "execution_count": 4,
      "outputs": [
        {
          "output_type": "stream",
          "name": "stdout",
          "text": [
            "Overwriting /content/humpty_dumpty/Makefile\n"
          ]
        }
      ]
    },
    {
      "cell_type": "code",
      "source": [
        "# Change directory and create package dir\n",
        "os.chdir(PACKAGE_ROOT_PATH)\n",
        "os.makedirs(PACKAGE_NAME, exist_ok=True)"
      ],
      "metadata": {
        "id": "Ca6yjS7Qjos5"
      },
      "execution_count": 5,
      "outputs": []
    },
    {
      "cell_type": "markdown",
      "source": [
        "Clean up artifacts such as `.ipynb_checkpoints`, `.pytest_cache` and `__pycache__`."
      ],
      "metadata": {
        "id": "7LH1wNrD9DTr"
      }
    },
    {
      "cell_type": "code",
      "source": [
        "! make clean"
      ],
      "metadata": {
        "id": "9SG3WmYP80e3",
        "outputId": "d6af46b5-85f3-48e9-cae2-a09781e7937a",
        "colab": {
          "base_uri": "https://localhost:8080/"
        }
      },
      "execution_count": 6,
      "outputs": [
        {
          "output_type": "stream",
          "name": "stdout",
          "text": [
            "🪣 Cleaning repository ... ⏳\n",
            "rm -rf \\\n",
            "\t.ipynb_checkpoints **/.ipynb_checkpoints \\\n",
            "\t.pytest_cache **/.pytest_cache \\\n",
            "\t**/__pycache__ **/**/__pycache__\n"
          ]
        }
      ]
    },
    {
      "cell_type": "code",
      "source": [
        "# Visualize directory structure\n",
        "! tree"
      ],
      "metadata": {
        "id": "6mzn3Oav8at6",
        "outputId": "1293ed58-ae80-45ce-bbb2-80615c4a8afe",
        "colab": {
          "base_uri": "https://localhost:8080/"
        }
      },
      "execution_count": 7,
      "outputs": [
        {
          "output_type": "stream",
          "name": "stdout",
          "text": [
            ".\n",
            "├── humpty\n",
            "│   ├── dinner\n",
            "│   │   ├── __init__.py\n",
            "│   │   └── invitation.py\n",
            "│   ├── dumpty.py\n",
            "│   └── __init__.py\n",
            "└── Makefile\n",
            "\n",
            "2 directories, 5 files\n"
          ]
        }
      ]
    },
    {
      "cell_type": "markdown",
      "source": [
        "Change directory: `cd` into `PACKAGE_ROOT` and create package directory with `PACKAGE_NAME` variable."
      ],
      "metadata": {
        "id": "OTvDJjWZkJyD"
      }
    },
    {
      "cell_type": "markdown",
      "source": [
        "Create a `__init__.py` file inside `PACKAGE_NAME` folder. This makes the folder act like a python module."
      ],
      "metadata": {
        "id": "yirsROAbmSiO"
      }
    },
    {
      "cell_type": "code",
      "source": [
        "! touch {PACKAGE_NAME}/__init__.py\n",
        "! tree ."
      ],
      "metadata": {
        "colab": {
          "base_uri": "https://localhost:8080/"
        },
        "id": "E9jaHAcKkMcW",
        "outputId": "77f06ab7-7bee-4367-992e-0fada1402811"
      },
      "execution_count": 8,
      "outputs": [
        {
          "output_type": "stream",
          "name": "stdout",
          "text": [
            ".\n",
            "├── humpty\n",
            "│   ├── dinner\n",
            "│   │   ├── __init__.py\n",
            "│   │   └── invitation.py\n",
            "│   ├── dumpty.py\n",
            "│   └── __init__.py\n",
            "└── Makefile\n",
            "\n",
            "2 directories, 5 files\n"
          ]
        }
      ]
    },
    {
      "cell_type": "markdown",
      "source": [
        "Now let's add a python file `humpty.py` with a few functions in it."
      ],
      "metadata": {
        "id": "ueRKyuOVmydd"
      }
    },
    {
      "cell_type": "code",
      "source": [
        "%%writefile {PACKAGE_NAME}/dumpty.py\n",
        "\n",
        "POOR_GUY: str = \"Humpty Dumpty\"\n",
        "\n",
        "def whoisthis() -> str:\n",
        "    return POOR_GUY\n",
        "\n",
        "def hasfallen(name: str) -> bool:\n",
        "    return name.strip() == POOR_GUY\n",
        "\n",
        "if __name__ == \"__main__\":\n",
        "    # test-1\n",
        "    print(f\"This is: {whoisthis()}\")\n",
        "    # test-2\n",
        "    name = \"Humpty\"\n",
        "    print(f\"Has {name} fallen? {hasfallen(name)}\") # false\n",
        "    # test-3\n",
        "    name = \"Humpty Dumpty\"\n",
        "    print(f\"Has {name} fallen? {hasfallen(name)}\") # true"
      ],
      "metadata": {
        "colab": {
          "base_uri": "https://localhost:8080/"
        },
        "id": "bEmqO82tmc5o",
        "outputId": "a2e91f5e-ac5f-4f14-acbd-980827427989"
      },
      "execution_count": 9,
      "outputs": [
        {
          "output_type": "stream",
          "name": "stdout",
          "text": [
            "Overwriting humpty/dumpty.py\n"
          ]
        }
      ]
    },
    {
      "cell_type": "markdown",
      "source": [
        "Check the project structure with `tree` command."
      ],
      "metadata": {
        "id": "pViedTbum9M3"
      }
    },
    {
      "cell_type": "code",
      "source": [
        "! tree ."
      ],
      "metadata": {
        "colab": {
          "base_uri": "https://localhost:8080/"
        },
        "id": "IPCHZvSVm31f",
        "outputId": "64f93639-b1cb-4caa-8e06-ee19544d6a91"
      },
      "execution_count": 10,
      "outputs": [
        {
          "output_type": "stream",
          "name": "stdout",
          "text": [
            ".\n",
            "├── humpty\n",
            "│   ├── dinner\n",
            "│   │   ├── __init__.py\n",
            "│   │   └── invitation.py\n",
            "│   ├── dumpty.py\n",
            "│   └── __init__.py\n",
            "└── Makefile\n",
            "\n",
            "2 directories, 5 files\n"
          ]
        }
      ]
    },
    {
      "cell_type": "markdown",
      "source": [
        "Test driven development helps in identifying and correcting errors early on. So, let's run `dumpty.py` and see if it runs without errors."
      ],
      "metadata": {
        "id": "0BDDZlgNnNi0"
      }
    },
    {
      "cell_type": "code",
      "source": [
        "! python {PACKAGE_NAME}/dumpty.py"
      ],
      "metadata": {
        "colab": {
          "base_uri": "https://localhost:8080/"
        },
        "id": "ZGCL-Gq6nCon",
        "outputId": "b830185d-2714-48a7-9c12-dbe6abf6cd50"
      },
      "execution_count": 11,
      "outputs": [
        {
          "output_type": "stream",
          "name": "stdout",
          "text": [
            "This is: Humpty Dumpty\n",
            "Has Humpty fallen? False\n",
            "Has Humpty Dumpty fallen? True\n"
          ]
        }
      ]
    },
    {
      "cell_type": "markdown",
      "source": [
        "## 🎁 Create a Python Submodule"
      ],
      "metadata": {
        "id": "iFi8qMxwotq-"
      }
    },
    {
      "cell_type": "markdown",
      "source": [
        "Now let's create another folder `dinner` under the `PACKAGE_NAME` folder and make that also a python module."
      ],
      "metadata": {
        "id": "P3wKS9_PnASb"
      }
    },
    {
      "cell_type": "code",
      "source": [
        "# Create a folder: dinner\n",
        "! mkdir -p {PACKAGE_NAME}/dinner\n",
        "\n",
        "# Convert the created folder into a python \n",
        "# module by adding __init__.py file.\n",
        "! touch {PACKAGE_NAME}/dinner/__init__.py\n",
        "! tree ."
      ],
      "metadata": {
        "colab": {
          "base_uri": "https://localhost:8080/"
        },
        "id": "SAMN2mcTm6bA",
        "outputId": "1b0ec3c1-7bc0-454c-ef4a-cf1d5b28d70d"
      },
      "execution_count": 12,
      "outputs": [
        {
          "output_type": "stream",
          "name": "stdout",
          "text": [
            ".\n",
            "├── humpty\n",
            "│   ├── dinner\n",
            "│   │   ├── __init__.py\n",
            "│   │   └── invitation.py\n",
            "│   ├── dumpty.py\n",
            "│   └── __init__.py\n",
            "└── Makefile\n",
            "\n",
            "2 directories, 5 files\n"
          ]
        }
      ]
    },
    {
      "cell_type": "markdown",
      "source": [
        "Now let's add another python file `invitation.py` inside `dinner` folder."
      ],
      "metadata": {
        "id": "wdgRKHfyoQj7"
      }
    },
    {
      "cell_type": "code",
      "source": [
        "%%writefile {PACKAGE_NAME}/dinner/invitation.py\n",
        "\n",
        "def invite(name: str, date: str=\"2022-02-02\") -> str:\n",
        "    body = f\"\"\"\n",
        "    Dear {name},\n",
        "\n",
        "    You and your family are invited to the dinner at our mansion on next Saturday! \n",
        "    Dinner starts at 7 pm.\n",
        "\n",
        "    Regards\n",
        "    --\n",
        "    Sir Augustine Medvedev\n",
        "    Dated: {date}\n",
        "    \"\"\"\n",
        "    return body"
      ],
      "metadata": {
        "colab": {
          "base_uri": "https://localhost:8080/"
        },
        "id": "y24twSlbnyiK",
        "outputId": "91b8d3d5-317a-47d9-865a-34be0e8d64a5"
      },
      "execution_count": 13,
      "outputs": [
        {
          "output_type": "stream",
          "name": "stdout",
          "text": [
            "Overwriting humpty/dinner/invitation.py\n"
          ]
        }
      ]
    },
    {
      "cell_type": "markdown",
      "source": [
        "Let's check the directory structure once again."
      ],
      "metadata": {
        "id": "GU50My0coT3N"
      }
    },
    {
      "cell_type": "code",
      "source": [
        "! tree ."
      ],
      "metadata": {
        "colab": {
          "base_uri": "https://localhost:8080/"
        },
        "id": "2e6I_90noOp1",
        "outputId": "6867d4a0-788c-4a5e-bf58-28e7c8e7bfe8"
      },
      "execution_count": 14,
      "outputs": [
        {
          "output_type": "stream",
          "name": "stdout",
          "text": [
            ".\n",
            "├── humpty\n",
            "│   ├── dinner\n",
            "│   │   ├── __init__.py\n",
            "│   │   └── invitation.py\n",
            "│   ├── dumpty.py\n",
            "│   └── __init__.py\n",
            "└── Makefile\n",
            "\n",
            "2 directories, 5 files\n"
          ]
        }
      ]
    },
    {
      "cell_type": "markdown",
      "source": [
        "## 🔥 **Moment of Truth**: Import and Test the Python Module\n",
        "\n",
        "Let's import and try out the module and it's functions we just created."
      ],
      "metadata": {
        "id": "Yr7ja-4poo_1"
      }
    },
    {
      "cell_type": "code",
      "source": [
        "! pwd"
      ],
      "metadata": {
        "colab": {
          "base_uri": "https://localhost:8080/"
        },
        "id": "9TUtd-R4rIaO",
        "outputId": "8baede84-930c-4731-c729-fe56e5f5d384"
      },
      "execution_count": 15,
      "outputs": [
        {
          "output_type": "stream",
          "name": "stdout",
          "text": [
            "/content/humpty_dumpty\n"
          ]
        }
      ]
    },
    {
      "cell_type": "code",
      "source": [
        "from humpty.dinner.invitation import invite\n",
        "from humpty.dumpty import hasfallen\n",
        "\n",
        "name = \"Humpty\"\n",
        "if not hasfallen(name):\n",
        "    print(invite(name=name, date=\"2022-06-11\"))"
      ],
      "metadata": {
        "colab": {
          "base_uri": "https://localhost:8080/"
        },
        "id": "F0pFp8-2oWik",
        "outputId": "de232355-102f-49b0-d50d-6f193c2ce4c4"
      },
      "execution_count": 16,
      "outputs": [
        {
          "output_type": "stream",
          "name": "stdout",
          "text": [
            "\n",
            "    Dear Humpty,\n",
            "\n",
            "    You and your family are invited to the dinner at our mansion on next Saturday! \n",
            "    Dinner starts at 7 pm.\n",
            "\n",
            "    Regards\n",
            "    --\n",
            "    Sir Augustine Medvedev\n",
            "    Dated: 2022-06-11\n",
            "    \n"
          ]
        }
      ]
    },
    {
      "cell_type": "markdown",
      "source": [
        "## 🪣 **Clean up**"
      ],
      "metadata": {
        "id": "ByJTaRml9rxR"
      }
    },
    {
      "cell_type": "markdown",
      "source": [
        "Check the directory contents before cleaning up artifacts."
      ],
      "metadata": {
        "id": "jBCGgsXN_eri"
      }
    },
    {
      "cell_type": "code",
      "source": [
        "! tree ."
      ],
      "metadata": {
        "id": "hKmFLRAqoai8",
        "outputId": "a0b542d9-ad2d-49ce-c2ed-d0202a0c1878",
        "colab": {
          "base_uri": "https://localhost:8080/"
        }
      },
      "execution_count": 17,
      "outputs": [
        {
          "output_type": "stream",
          "name": "stdout",
          "text": [
            ".\n",
            "├── humpty\n",
            "│   ├── dinner\n",
            "│   │   ├── __init__.py\n",
            "│   │   ├── invitation.py\n",
            "│   │   └── __pycache__\n",
            "│   │       ├── __init__.cpython-37.pyc\n",
            "│   │       └── invitation.cpython-37.pyc\n",
            "│   ├── dumpty.py\n",
            "│   ├── __init__.py\n",
            "│   └── __pycache__\n",
            "│       ├── dumpty.cpython-37.pyc\n",
            "│       └── __init__.cpython-37.pyc\n",
            "└── Makefile\n",
            "\n",
            "4 directories, 9 files\n"
          ]
        }
      ]
    },
    {
      "cell_type": "markdown",
      "source": [
        "Clean up artifacts."
      ],
      "metadata": {
        "id": "BTy3UHy6_jdh"
      }
    },
    {
      "cell_type": "code",
      "source": [
        "! make clean"
      ],
      "metadata": {
        "id": "rOI7YmMf9kVv",
        "outputId": "8e18db24-2715-4643-e83f-43efe78adc52",
        "colab": {
          "base_uri": "https://localhost:8080/"
        }
      },
      "execution_count": 18,
      "outputs": [
        {
          "output_type": "stream",
          "name": "stdout",
          "text": [
            "🪣 Cleaning repository ... ⏳\n",
            "rm -rf \\\n",
            "\t.ipynb_checkpoints **/.ipynb_checkpoints \\\n",
            "\t.pytest_cache **/.pytest_cache \\\n",
            "\t**/__pycache__ **/**/__pycache__\n"
          ]
        }
      ]
    },
    {
      "cell_type": "markdown",
      "source": [
        "Visualize the directory tree again."
      ],
      "metadata": {
        "id": "0F8ywgxE_muk"
      }
    },
    {
      "cell_type": "code",
      "source": [
        "! tree ."
      ],
      "metadata": {
        "id": "fbqI_Sco9nQY",
        "outputId": "f2bf026d-8dff-4079-f872-f9641af521ad",
        "colab": {
          "base_uri": "https://localhost:8080/"
        }
      },
      "execution_count": 19,
      "outputs": [
        {
          "output_type": "stream",
          "name": "stdout",
          "text": [
            ".\n",
            "├── humpty\n",
            "│   ├── dinner\n",
            "│   │   ├── __init__.py\n",
            "│   │   └── invitation.py\n",
            "│   ├── dumpty.py\n",
            "│   └── __init__.py\n",
            "└── Makefile\n",
            "\n",
            "2 directories, 5 files\n"
          ]
        }
      ]
    },
    {
      "cell_type": "code",
      "source": [
        ""
      ],
      "metadata": {
        "id": "Td2EW_Yc9qrH"
      },
      "execution_count": 19,
      "outputs": []
    }
  ]
}