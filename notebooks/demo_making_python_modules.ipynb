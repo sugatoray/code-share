{
  "nbformat": 4,
  "nbformat_minor": 0,
  "metadata": {
    "colab": {
      "name": "demo_making_python_modules.ipynb",
      "provenance": [],
      "collapsed_sections": [],
      "authorship_tag": "ABX9TyNAkRXMjAu5a6Z761dDBOKX",
      "include_colab_link": true
    },
    "kernelspec": {
      "name": "python3",
      "display_name": "Python 3"
    },
    "language_info": {
      "name": "python"
    }
  },
  "cells": [
    {
      "cell_type": "markdown",
      "metadata": {
        "id": "view-in-github",
        "colab_type": "text"
      },
      "source": [
        "<a href=\"https://colab.research.google.com/github/sugatoray/code-share/blob/master/notebooks/demo_making_python_modules.ipynb\" target=\"_parent\"><img src=\"https://colab.research.google.com/assets/colab-badge.svg\" alt=\"Open In Colab\"/></a>"
      ]
    },
    {
      "cell_type": "markdown",
      "source": [
        "# 🔔 **An example of creating a python module in Google Colab**"
      ],
      "metadata": {
        "id": "N5mhCZFqjiLg"
      }
    },
    {
      "cell_type": "code",
      "source": [
        "# Autoreload modules\n",
        "%load_ext autoreload\n",
        "%autoreload 2"
      ],
      "metadata": {
        "id": "aD3BX_kYBdOi"
      },
      "execution_count": 1,
      "outputs": []
    },
    {
      "cell_type": "markdown",
      "source": [
        "Install `tree` in colab so you could see the package directory tree conveniently."
      ],
      "metadata": {
        "id": "YQjN9K59jdIY"
      }
    },
    {
      "cell_type": "code",
      "execution_count": 2,
      "metadata": {
        "id": "AJKjp6JKjPtF"
      },
      "outputs": [],
      "source": [
        "%%capture\n",
        "! sudo apt install tree"
      ]
    },
    {
      "cell_type": "markdown",
      "source": [
        "Create the package root directory (this will be the name of the repository, if you were to sync with GitHub)."
      ],
      "metadata": {
        "id": "eayCtFJIjmqa"
      }
    },
    {
      "cell_type": "code",
      "source": [
        "PACKAGE_ROOT = \"humpty_dumpty\"\n",
        "PACKAGE_NAME = \"humpty\""
      ],
      "metadata": {
        "id": "P5kih6gj_PmT"
      },
      "execution_count": 3,
      "outputs": []
    },
    {
      "cell_type": "code",
      "source": [
        "import os\n",
        "\n",
        "os.chdir(\"/content\")\n",
        "\n",
        "COLAB_HOME = os.path.abspath(os.curdir)\n",
        "PACKAGE_ROOT_PATH = os.path.join(COLAB_HOME, PACKAGE_ROOT)\n",
        "print(f\"\"\"\\n\n",
        "👉 PACKAGE_ROOT: {PACKAGE_ROOT}\n",
        "👉 PACKAGE_NAME: {PACKAGE_NAME}\n",
        "👉 COLAB_HOME: {COLAB_HOME}\n",
        "\\n\"\"\")\n",
        "\n",
        "# Create directory\n",
        "# ! mkdir -p {PACKAGE_ROOT}\n",
        "os.makedirs(PACKAGE_ROOT_PATH, exist_ok=True)"
      ],
      "metadata": {
        "colab": {
          "base_uri": "https://localhost:8080/"
        },
        "id": "zRlrl8svjfsM",
        "outputId": "8e26a0ae-c7fc-4413-829e-86828a013a78"
      },
      "execution_count": 4,
      "outputs": [
        {
          "output_type": "stream",
          "name": "stdout",
          "text": [
            "\n",
            "\n",
            "👉 PACKAGE_ROOT: humpty_dumpty\n",
            "👉 PACKAGE_NAME: humpty\n",
            "👉 COLAB_HOME: /content\n",
            "\n",
            "\n"
          ]
        }
      ]
    },
    {
      "cell_type": "markdown",
      "source": [
        "Create a Makefile to manage various repository maintenance activities. For now, we just add `clean` command."
      ],
      "metadata": {
        "id": "64U5V16YOFLH"
      }
    },
    {
      "cell_type": "code",
      "source": [
        "%%writefile {PACKAGE_ROOT_PATH}/Makefile\n",
        ".PHONY: clean\n",
        "\n",
        "clean:\n",
        "\t@ echo \"🪣 Cleaning repository ... ⏳\"\n",
        "\trm -rf \\\n",
        "\t\t.ipynb_checkpoints **/.ipynb_checkpoints \\\n",
        "\t\t.pytest_cache **/.pytest_cache \\\n",
        "\t\t**/__pycache__ **/**/__pycache__"
      ],
      "metadata": {
        "colab": {
          "base_uri": "https://localhost:8080/"
        },
        "id": "TG2DWOG98hOB",
        "outputId": "39fe0713-e60d-4f88-82d9-1db269d903ac"
      },
      "execution_count": 5,
      "outputs": [
        {
          "output_type": "stream",
          "name": "stdout",
          "text": [
            "Writing /content/humpty_dumpty/Makefile\n"
          ]
        }
      ]
    },
    {
      "cell_type": "code",
      "source": [
        "# Change directory and create package dir\n",
        "os.chdir(PACKAGE_ROOT_PATH)\n",
        "os.makedirs(PACKAGE_NAME, exist_ok=True)"
      ],
      "metadata": {
        "id": "Ca6yjS7Qjos5"
      },
      "execution_count": 6,
      "outputs": []
    },
    {
      "cell_type": "markdown",
      "source": [
        "Clean up artifacts such as `.ipynb_checkpoints`, `.pytest_cache` and `__pycache__`."
      ],
      "metadata": {
        "id": "7LH1wNrD9DTr"
      }
    },
    {
      "cell_type": "code",
      "source": [
        "! make clean"
      ],
      "metadata": {
        "colab": {
          "base_uri": "https://localhost:8080/"
        },
        "id": "9SG3WmYP80e3",
        "outputId": "42712667-00e1-43d2-af29-52312366bb27"
      },
      "execution_count": 7,
      "outputs": [
        {
          "output_type": "stream",
          "name": "stdout",
          "text": [
            "🪣 Cleaning repository ... ⏳\n",
            "rm -rf \\\n",
            "\t.ipynb_checkpoints **/.ipynb_checkpoints \\\n",
            "\t.pytest_cache **/.pytest_cache \\\n",
            "\t**/__pycache__ **/**/__pycache__\n"
          ]
        }
      ]
    },
    {
      "cell_type": "code",
      "source": [
        "# Visualize directory structure\n",
        "! tree"
      ],
      "metadata": {
        "colab": {
          "base_uri": "https://localhost:8080/"
        },
        "id": "6mzn3Oav8at6",
        "outputId": "815d1f3a-8230-458d-de37-b4af25a52e4c"
      },
      "execution_count": 8,
      "outputs": [
        {
          "output_type": "stream",
          "name": "stdout",
          "text": [
            ".\n",
            "├── humpty\n",
            "└── Makefile\n",
            "\n",
            "1 directory, 1 file\n"
          ]
        }
      ]
    },
    {
      "cell_type": "markdown",
      "source": [
        "Change directory: `cd` into `PACKAGE_ROOT` and create package directory with `PACKAGE_NAME` variable."
      ],
      "metadata": {
        "id": "OTvDJjWZkJyD"
      }
    },
    {
      "cell_type": "markdown",
      "source": [
        "Create a `__init__.py` file inside `PACKAGE_NAME` folder. This makes the folder act like a python module."
      ],
      "metadata": {
        "id": "yirsROAbmSiO"
      }
    },
    {
      "cell_type": "code",
      "source": [
        "! touch {PACKAGE_NAME}/__init__.py\n",
        "! tree ."
      ],
      "metadata": {
        "colab": {
          "base_uri": "https://localhost:8080/"
        },
        "id": "E9jaHAcKkMcW",
        "outputId": "a2c64542-4e1d-42f6-f5ab-114f73e535ae"
      },
      "execution_count": 9,
      "outputs": [
        {
          "output_type": "stream",
          "name": "stdout",
          "text": [
            ".\n",
            "├── humpty\n",
            "│   └── __init__.py\n",
            "└── Makefile\n",
            "\n",
            "1 directory, 2 files\n"
          ]
        }
      ]
    },
    {
      "cell_type": "markdown",
      "source": [
        "Now let's add a python file `humpty.py` with a few functions in it."
      ],
      "metadata": {
        "id": "ueRKyuOVmydd"
      }
    },
    {
      "cell_type": "code",
      "source": [
        "%%writefile {PACKAGE_NAME}/dumpty.py\n",
        "\n",
        "POOR_GUY: str = \"Humpty Dumpty\"\n",
        "\n",
        "def whoisthis() -> str:\n",
        "    return POOR_GUY\n",
        "\n",
        "def hasfallen(name: str) -> bool:\n",
        "    return name.strip() == POOR_GUY\n",
        "\n",
        "if __name__ == \"__main__\":\n",
        "    # test-1\n",
        "    print(f\"👉 This is: {whoisthis()}\")\n",
        "    # test-2\n",
        "    name = \"Humpty\"\n",
        "    print(f\"👉 Has {name} fallen? {hasfallen(name)}\") # false\n",
        "    # test-3\n",
        "    name = \"Humpty Dumpty\"\n",
        "    print(f\"👉 Has {name} fallen? {hasfallen(name)}\") # true"
      ],
      "metadata": {
        "colab": {
          "base_uri": "https://localhost:8080/"
        },
        "id": "bEmqO82tmc5o",
        "outputId": "33a600a9-42ce-46db-85fb-d7ff5254cc37"
      },
      "execution_count": 10,
      "outputs": [
        {
          "output_type": "stream",
          "name": "stdout",
          "text": [
            "Writing humpty/dumpty.py\n"
          ]
        }
      ]
    },
    {
      "cell_type": "markdown",
      "source": [
        "Check the project structure with `tree` command."
      ],
      "metadata": {
        "id": "pViedTbum9M3"
      }
    },
    {
      "cell_type": "code",
      "source": [
        "! tree ."
      ],
      "metadata": {
        "colab": {
          "base_uri": "https://localhost:8080/"
        },
        "id": "IPCHZvSVm31f",
        "outputId": "9003b112-20c2-4d73-cf08-970feaec2fb3"
      },
      "execution_count": 11,
      "outputs": [
        {
          "output_type": "stream",
          "name": "stdout",
          "text": [
            ".\n",
            "├── humpty\n",
            "│   ├── dumpty.py\n",
            "│   └── __init__.py\n",
            "└── Makefile\n",
            "\n",
            "1 directory, 3 files\n"
          ]
        }
      ]
    },
    {
      "cell_type": "markdown",
      "source": [
        "Test driven development helps in identifying and correcting errors early on. So, let's run `dumpty.py` and see if it runs without errors."
      ],
      "metadata": {
        "id": "0BDDZlgNnNi0"
      }
    },
    {
      "cell_type": "code",
      "source": [
        "! python {PACKAGE_NAME}/dumpty.py"
      ],
      "metadata": {
        "colab": {
          "base_uri": "https://localhost:8080/"
        },
        "id": "ZGCL-Gq6nCon",
        "outputId": "ec104b04-3b61-4b71-d013-deb4d28ebe71"
      },
      "execution_count": 12,
      "outputs": [
        {
          "output_type": "stream",
          "name": "stdout",
          "text": [
            "👉 This is: Humpty Dumpty\n",
            "👉 Has Humpty fallen? False\n",
            "👉 Has Humpty Dumpty fallen? True\n"
          ]
        }
      ]
    },
    {
      "cell_type": "markdown",
      "source": [
        "## 🎁 Create a Python Submodule"
      ],
      "metadata": {
        "id": "iFi8qMxwotq-"
      }
    },
    {
      "cell_type": "markdown",
      "source": [
        "Now let's create another folder `dinner` under the `PACKAGE_NAME` folder and make that also a python module."
      ],
      "metadata": {
        "id": "P3wKS9_PnASb"
      }
    },
    {
      "cell_type": "code",
      "source": [
        "# Create a folder: dinner\n",
        "! mkdir -p {PACKAGE_NAME}/dinner\n",
        "\n",
        "# Convert the created folder into a python \n",
        "# module by adding __init__.py file.\n",
        "! touch {PACKAGE_NAME}/dinner/__init__.py\n",
        "! tree ."
      ],
      "metadata": {
        "colab": {
          "base_uri": "https://localhost:8080/"
        },
        "id": "SAMN2mcTm6bA",
        "outputId": "d268294b-bd1d-4ae5-e9c0-cea846af9139"
      },
      "execution_count": 13,
      "outputs": [
        {
          "output_type": "stream",
          "name": "stdout",
          "text": [
            ".\n",
            "├── humpty\n",
            "│   ├── dinner\n",
            "│   │   └── __init__.py\n",
            "│   ├── dumpty.py\n",
            "│   └── __init__.py\n",
            "└── Makefile\n",
            "\n",
            "2 directories, 4 files\n"
          ]
        }
      ]
    },
    {
      "cell_type": "markdown",
      "source": [
        "Now let's add another python file `invitation.py` inside `dinner` folder."
      ],
      "metadata": {
        "id": "wdgRKHfyoQj7"
      }
    },
    {
      "cell_type": "code",
      "source": [
        "%%writefile {PACKAGE_NAME}/dinner/invitation.py\n",
        "from textwrap import dedent\n",
        "\n",
        "def invite(name: str, date: str=\"2022-02-02\") -> str:\n",
        "    body = f\"\"\"📩\n",
        "    Dear {name},\n",
        "\n",
        "    You and your family are invited to the dinner at our mansion on next Saturday! \n",
        "    Dinner starts at 7 pm.\n",
        "\n",
        "    Regards\n",
        "    --\n",
        "    Sir Augustine Medvedev\n",
        "    Dated: {date}\n",
        "    \"\"\"\n",
        "    return dedent(body)"
      ],
      "metadata": {
        "colab": {
          "base_uri": "https://localhost:8080/"
        },
        "id": "y24twSlbnyiK",
        "outputId": "7e1b76ee-d653-4295-829f-74ed755b7faa"
      },
      "execution_count": 14,
      "outputs": [
        {
          "output_type": "stream",
          "name": "stdout",
          "text": [
            "Writing humpty/dinner/invitation.py\n"
          ]
        }
      ]
    },
    {
      "cell_type": "markdown",
      "source": [
        "Let's check the directory structure once again."
      ],
      "metadata": {
        "id": "GU50My0coT3N"
      }
    },
    {
      "cell_type": "code",
      "source": [
        "! tree ."
      ],
      "metadata": {
        "colab": {
          "base_uri": "https://localhost:8080/"
        },
        "id": "2e6I_90noOp1",
        "outputId": "4fad9f29-ebcb-4246-8fbd-bcd6abc93175"
      },
      "execution_count": 15,
      "outputs": [
        {
          "output_type": "stream",
          "name": "stdout",
          "text": [
            ".\n",
            "├── humpty\n",
            "│   ├── dinner\n",
            "│   │   ├── __init__.py\n",
            "│   │   └── invitation.py\n",
            "│   ├── dumpty.py\n",
            "│   └── __init__.py\n",
            "└── Makefile\n",
            "\n",
            "2 directories, 5 files\n"
          ]
        }
      ]
    },
    {
      "cell_type": "markdown",
      "source": [
        "## 🔥 **Moment of Truth**: Import and Test the Python Module\n",
        "\n",
        "Let's import and try out the module and it's functions we just created."
      ],
      "metadata": {
        "id": "Yr7ja-4poo_1"
      }
    },
    {
      "cell_type": "code",
      "source": [
        "# Show current path\n",
        "! pwd"
      ],
      "metadata": {
        "colab": {
          "base_uri": "https://localhost:8080/"
        },
        "id": "9TUtd-R4rIaO",
        "outputId": "a2f3b721-043b-40a5-caf1-fdb7ad9268ce"
      },
      "execution_count": 16,
      "outputs": [
        {
          "output_type": "stream",
          "name": "stdout",
          "text": [
            "/content/humpty_dumpty\n"
          ]
        }
      ]
    },
    {
      "cell_type": "code",
      "source": [
        "from humpty.dinner.invitation import invite\n",
        "from humpty.dumpty import hasfallen\n",
        "\n",
        "name = \"Humpty\"\n",
        "if not hasfallen(name):\n",
        "    print(invite(name=name, date=\"2022-06-11\"))"
      ],
      "metadata": {
        "colab": {
          "base_uri": "https://localhost:8080/"
        },
        "id": "F0pFp8-2oWik",
        "outputId": "4c4ec537-072f-4425-eec2-2646bccfc242"
      },
      "execution_count": 17,
      "outputs": [
        {
          "output_type": "stream",
          "name": "stdout",
          "text": [
            "📩\n",
            "    Dear Humpty,\n",
            "\n",
            "    You and your family are invited to the dinner at our mansion on next Saturday! \n",
            "    Dinner starts at 7 pm.\n",
            "\n",
            "    Regards\n",
            "    --\n",
            "    Sir Augustine Medvedev\n",
            "    Dated: 2022-06-11\n",
            "\n"
          ]
        }
      ]
    },
    {
      "cell_type": "markdown",
      "source": [
        "## 🪣 **Clean up**"
      ],
      "metadata": {
        "id": "ByJTaRml9rxR"
      }
    },
    {
      "cell_type": "markdown",
      "source": [
        "Check the directory contents before cleaning up artifacts."
      ],
      "metadata": {
        "id": "jBCGgsXN_eri"
      }
    },
    {
      "cell_type": "code",
      "source": [
        "! tree ."
      ],
      "metadata": {
        "id": "hKmFLRAqoai8",
        "colab": {
          "base_uri": "https://localhost:8080/"
        },
        "outputId": "22b4974e-0783-4e3f-c86d-3e440f5c98e6"
      },
      "execution_count": 18,
      "outputs": [
        {
          "output_type": "stream",
          "name": "stdout",
          "text": [
            ".\n",
            "├── humpty\n",
            "│   ├── dinner\n",
            "│   │   ├── __init__.py\n",
            "│   │   ├── invitation.py\n",
            "│   │   └── __pycache__\n",
            "│   │       ├── __init__.cpython-37.pyc\n",
            "│   │       └── invitation.cpython-37.pyc\n",
            "│   ├── dumpty.py\n",
            "│   ├── __init__.py\n",
            "│   └── __pycache__\n",
            "│       ├── dumpty.cpython-37.pyc\n",
            "│       └── __init__.cpython-37.pyc\n",
            "└── Makefile\n",
            "\n",
            "4 directories, 9 files\n"
          ]
        }
      ]
    },
    {
      "cell_type": "markdown",
      "source": [
        "Clean up artifacts."
      ],
      "metadata": {
        "id": "BTy3UHy6_jdh"
      }
    },
    {
      "cell_type": "code",
      "source": [
        "! make clean"
      ],
      "metadata": {
        "colab": {
          "base_uri": "https://localhost:8080/"
        },
        "id": "rOI7YmMf9kVv",
        "outputId": "81292c25-8e79-4d15-882b-e45c15d51594"
      },
      "execution_count": 19,
      "outputs": [
        {
          "output_type": "stream",
          "name": "stdout",
          "text": [
            "🪣 Cleaning repository ... ⏳\n",
            "rm -rf \\\n",
            "\t.ipynb_checkpoints **/.ipynb_checkpoints \\\n",
            "\t.pytest_cache **/.pytest_cache \\\n",
            "\t**/__pycache__ **/**/__pycache__\n"
          ]
        }
      ]
    },
    {
      "cell_type": "markdown",
      "source": [
        "Visualize the directory tree again."
      ],
      "metadata": {
        "id": "0F8ywgxE_muk"
      }
    },
    {
      "cell_type": "code",
      "source": [
        "! tree ."
      ],
      "metadata": {
        "colab": {
          "base_uri": "https://localhost:8080/"
        },
        "id": "fbqI_Sco9nQY",
        "outputId": "dac8e26a-b44e-4132-f271-ebb1cc1de4e2"
      },
      "execution_count": 20,
      "outputs": [
        {
          "output_type": "stream",
          "name": "stdout",
          "text": [
            ".\n",
            "├── humpty\n",
            "│   ├── dinner\n",
            "│   │   ├── __init__.py\n",
            "│   │   └── invitation.py\n",
            "│   ├── dumpty.py\n",
            "│   └── __init__.py\n",
            "└── Makefile\n",
            "\n",
            "2 directories, 5 files\n"
          ]
        }
      ]
    },
    {
      "cell_type": "markdown",
      "source": [
        "## **Notes** ✨"
      ],
      "metadata": {
        "id": "va-RBbwxCXJ0"
      }
    },
    {
      "cell_type": "markdown",
      "source": [
        "While develping inside a jupyter notebook, if you make changes to python modules inside some `.py` file, it will not be autoreloaded as is.\n",
        "\n",
        "You have two options in this case:\n",
        "\n",
        "1. Add this to a code cell at the top of the notebook.\n",
        "\n",
        "  Source: [Stackoverflow - *Reloading submodules in IPython*](https://stackoverflow.com/questions/5364050/reloading-submodules-in-ipython)\n",
        "\n",
        "  ```python\n",
        "  # Autoreload modules\n",
        "  %load_ext autoreload\n",
        "  %autoreload 2\n",
        "  ```\n",
        "\n",
        "2. Add the following at the top of the notebook.\n",
        "\n",
        "  Source: [Docs - `IPython.lib.deeprelead`](https://ipython.readthedocs.io/en/stable/api/generated/IPython.lib.deepreload.html)\n",
        "\n",
        "  ```python\n",
        "  import builtins\n",
        "  from IPython.lib import deepreload\n",
        "  builtins.reload = deepreload.reload\n",
        "  ```"
      ],
      "metadata": {
        "id": "bmjWw4TtCjek"
      }
    },
    {
      "cell_type": "code",
      "source": [
        ""
      ],
      "metadata": {
        "id": "Td2EW_Yc9qrH"
      },
      "execution_count": 20,
      "outputs": []
    }
  ]
}