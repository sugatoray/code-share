{
  "nbformat": 4,
  "nbformat_minor": 0,
  "metadata": {
    "colab": {
      "name": "demo_making_python_modules.ipynb",
      "provenance": [],
      "collapsed_sections": [],
      "authorship_tag": "ABX9TyOvupKLCqBgMKwTWjlwED5v",
      "include_colab_link": true
    },
    "kernelspec": {
      "name": "python3",
      "display_name": "Python 3"
    },
    "language_info": {
      "name": "python"
    }
  },
  "cells": [
    {
      "cell_type": "markdown",
      "metadata": {
        "id": "view-in-github",
        "colab_type": "text"
      },
      "source": [
        "<a href=\"https://colab.research.google.com/github/sugatoray/code-share/blob/master/notebooks/demo_making_python_modules.ipynb\" target=\"_parent\"><img src=\"https://colab.research.google.com/assets/colab-badge.svg\" alt=\"Open In Colab\"/></a>"
      ]
    },
    {
      "cell_type": "markdown",
      "source": [
        "# An example of creating a python module in Google Colab"
      ],
      "metadata": {
        "id": "N5mhCZFqjiLg"
      }
    },
    {
      "cell_type": "markdown",
      "source": [
        "Install `tree` in colab so you could see the package directory tree conveniently."
      ],
      "metadata": {
        "id": "YQjN9K59jdIY"
      }
    },
    {
      "cell_type": "code",
      "execution_count": 1,
      "metadata": {
        "id": "AJKjp6JKjPtF"
      },
      "outputs": [],
      "source": [
        "%%capture\n",
        "! sudo apt install tree"
      ]
    },
    {
      "cell_type": "markdown",
      "source": [
        "Create the package root directory (this will be the name of the repository, if you were to sync with GitHub)."
      ],
      "metadata": {
        "id": "eayCtFJIjmqa"
      }
    },
    {
      "cell_type": "code",
      "source": [
        "import os\n",
        "\n",
        "os.chdir(\"/content\")\n",
        "\n",
        "PACKAGE_ROOT = \"humpty_dumpty\"\n",
        "PACKAGE_NAME = \"humpty\"\n",
        "COLAB_HOME = os.path.abspath(os.curdir)\n",
        "PACKAGE_ROOT_PATH = os.path.join(COLAB_HOME, PACKAGE_ROOT)\n",
        "print(f\"\"\"\\n\n",
        "PACKAGE_ROOT: {PACKAGE_ROOT}\n",
        "PACKAGE_NAME: {PACKAGE_NAME}\n",
        "COLAB_HOME: {COLAB_HOME}\n",
        "\\n\"\"\")\n",
        "\n",
        "# Create directory\n",
        "# ! mkdir -p {PACKAGE_ROOT}\n",
        "os.makedirs(PACKAGE_ROOT_PATH, exist_ok=True)\n",
        "# Visualize directory structure\n",
        "! tree"
      ],
      "metadata": {
        "colab": {
          "base_uri": "https://localhost:8080/"
        },
        "id": "zRlrl8svjfsM",
        "outputId": "4b6ba59f-a290-469d-eeb5-d91be306587a"
      },
      "execution_count": 16,
      "outputs": [
        {
          "output_type": "stream",
          "name": "stdout",
          "text": [
            "\n",
            "\n",
            "PACKAGE_ROOT: humpty_dumpty\n",
            "PACKAGE_NAME: humpty\n",
            "COLAB_HOME: /content\n",
            "\n",
            "\n",
            ".\n",
            "├── humpty_dumpty\n",
            "│   └── humpty\n",
            "└── sample_data\n",
            "    ├── anscombe.json\n",
            "    ├── california_housing_test.csv\n",
            "    ├── california_housing_train.csv\n",
            "    ├── mnist_test.csv\n",
            "    ├── mnist_train_small.csv\n",
            "    └── README.md\n",
            "\n",
            "3 directories, 6 files\n"
          ]
        }
      ]
    },
    {
      "cell_type": "markdown",
      "source": [
        "Change directory: `cd` into `PACKAGE_ROOT` and create package directory with `PACKAGE_NAME` variable."
      ],
      "metadata": {
        "id": "OTvDJjWZkJyD"
      }
    },
    {
      "cell_type": "code",
      "source": [
        "# Change directory and create package dir\n",
        "os.chdir(PACKAGE_ROOT_PATH)\n",
        "os.makedirs(PACKAGE_NAME, exist_ok=True)\n",
        "! tree ."
      ],
      "metadata": {
        "colab": {
          "base_uri": "https://localhost:8080/"
        },
        "id": "Ca6yjS7Qjos5",
        "outputId": "9071a54e-a018-4a6e-e20b-74f3e2fc487e"
      },
      "execution_count": 18,
      "outputs": [
        {
          "output_type": "stream",
          "name": "stdout",
          "text": [
            ".\n",
            "└── humpty\n",
            "\n",
            "1 directory, 0 files\n"
          ]
        }
      ]
    },
    {
      "cell_type": "markdown",
      "source": [
        "Create a `__init__.py` file inside `PACKAGE_NAME` folder. This makes the folder act like a python module."
      ],
      "metadata": {
        "id": "yirsROAbmSiO"
      }
    },
    {
      "cell_type": "code",
      "source": [
        "! touch {PACKAGE_NAME}/__init__.py\n",
        "! tree ."
      ],
      "metadata": {
        "colab": {
          "base_uri": "https://localhost:8080/"
        },
        "id": "E9jaHAcKkMcW",
        "outputId": "13e4313c-7e85-4aea-976c-5ab4269b2e76"
      },
      "execution_count": 22,
      "outputs": [
        {
          "output_type": "stream",
          "name": "stdout",
          "text": [
            ".\n",
            "└── humpty\n",
            "    └── __init__.py\n",
            "\n",
            "1 directory, 1 file\n"
          ]
        }
      ]
    },
    {
      "cell_type": "markdown",
      "source": [
        "Now let's add a python file `humpty.py` with a few functions in it."
      ],
      "metadata": {
        "id": "ueRKyuOVmydd"
      }
    },
    {
      "cell_type": "code",
      "source": [
        "%%writefile {PACKAGE_NAME}/dumpty.py\n",
        "\n",
        "POOR_GUY: str = \"Humpty Dumpty\"\n",
        "\n",
        "def whoisthis() -> str:\n",
        "    return POOR_GUY\n",
        "\n",
        "def hasfallen(name: str) -> bool:\n",
        "    return name.strip() == POOR_GUY\n",
        "\n",
        "if __name__ == \"__main__\":\n",
        "    # test-1\n",
        "    print(f\"This is: {whoisthis()}\")\n",
        "    # test-2\n",
        "    name = \"Humpty\"\n",
        "    print(f\"Has {name} fallen? {hasfallen(name)}\") # false\n",
        "    # test-3\n",
        "    name = \"Humpty Dumpty\"\n",
        "    print(f\"Has {name} fallen? {hasfallen(name)}\") # true"
      ],
      "metadata": {
        "colab": {
          "base_uri": "https://localhost:8080/"
        },
        "id": "bEmqO82tmc5o",
        "outputId": "d531ad67-bc33-4abf-ca1e-49b8d2076e4b"
      },
      "execution_count": 23,
      "outputs": [
        {
          "output_type": "stream",
          "name": "stdout",
          "text": [
            "Writing humpty/dumpty.py\n"
          ]
        }
      ]
    },
    {
      "cell_type": "markdown",
      "source": [
        "Check the project structure with `tree` command."
      ],
      "metadata": {
        "id": "pViedTbum9M3"
      }
    },
    {
      "cell_type": "code",
      "source": [
        "! tree ."
      ],
      "metadata": {
        "colab": {
          "base_uri": "https://localhost:8080/"
        },
        "id": "IPCHZvSVm31f",
        "outputId": "85dd77f3-3a04-420c-8053-c4faa730b131"
      },
      "execution_count": 24,
      "outputs": [
        {
          "output_type": "stream",
          "name": "stdout",
          "text": [
            ".\n",
            "└── humpty\n",
            "    ├── dumpty.py\n",
            "    └── __init__.py\n",
            "\n",
            "1 directory, 2 files\n"
          ]
        }
      ]
    },
    {
      "cell_type": "markdown",
      "source": [
        "Test driven development helps in identifying and correcting errors early on. So, let's run `dumpty.py` and see if it runs without errors."
      ],
      "metadata": {
        "id": "0BDDZlgNnNi0"
      }
    },
    {
      "cell_type": "code",
      "source": [
        "! python {PACKAGE_NAME}/dumpty.py"
      ],
      "metadata": {
        "colab": {
          "base_uri": "https://localhost:8080/"
        },
        "id": "ZGCL-Gq6nCon",
        "outputId": "3300044f-d666-4b7c-fbf4-76c4fabc59d0"
      },
      "execution_count": 25,
      "outputs": [
        {
          "output_type": "stream",
          "name": "stdout",
          "text": [
            "This is: Humpty Dumpty\n",
            "Has Humpty fallen? False\n",
            "Has Humpty Dumpty fallen? True\n"
          ]
        }
      ]
    },
    {
      "cell_type": "markdown",
      "source": [
        "## Create a Python Submodule"
      ],
      "metadata": {
        "id": "iFi8qMxwotq-"
      }
    },
    {
      "cell_type": "markdown",
      "source": [
        "Now let's create another folder `dinner` under the `PACKAGE_NAME` folder and make that also a python module."
      ],
      "metadata": {
        "id": "P3wKS9_PnASb"
      }
    },
    {
      "cell_type": "code",
      "source": [
        "# Create a folder: dinner\n",
        "! mkdir -p {PACKAGE_NAME}/dinner\n",
        "\n",
        "# Convert the created folder into a python \n",
        "# module by adding __init__.py file.\n",
        "! touch {PACKAGE_NAME}/dinner/__init__.py\n",
        "! tree ."
      ],
      "metadata": {
        "colab": {
          "base_uri": "https://localhost:8080/"
        },
        "id": "SAMN2mcTm6bA",
        "outputId": "64895e0a-02a4-4922-e530-4713b999208a"
      },
      "execution_count": 28,
      "outputs": [
        {
          "output_type": "stream",
          "name": "stdout",
          "text": [
            ".\n",
            "└── humpty\n",
            "    ├── dinner\n",
            "    │   └── __init__.py\n",
            "    ├── dinner.invitation.py\n",
            "    ├── dumpty.py\n",
            "    └── __init__.py\n",
            "\n",
            "3 directories, 3 files\n"
          ]
        }
      ]
    },
    {
      "cell_type": "markdown",
      "source": [
        "Now let's add another python file `invitation.py` inside `dinner` folder."
      ],
      "metadata": {
        "id": "wdgRKHfyoQj7"
      }
    },
    {
      "cell_type": "code",
      "source": [
        "%%writefile {PACKAGE_NAME}/dinner/invitation.py\n",
        "\n",
        "def invite(name: str, date: str=\"2022-02-02\") -> str:\n",
        "    body = f\"\"\"\n",
        "    Dear {name},\n",
        "\n",
        "    You and your family are invited to the dinner at our mansion on next Saturday! \n",
        "    Dinner starts at 7 pm.\n",
        "\n",
        "    Regards\n",
        "    --\n",
        "    Sir Augustine Medvedev\n",
        "    Dated: {date}\n",
        "    \"\"\"\n",
        "    return body"
      ],
      "metadata": {
        "colab": {
          "base_uri": "https://localhost:8080/"
        },
        "id": "y24twSlbnyiK",
        "outputId": "8dcae3c0-debf-45a6-e1bc-7ccb2c2220b4"
      },
      "execution_count": 29,
      "outputs": [
        {
          "output_type": "stream",
          "name": "stdout",
          "text": [
            "Writing humpty/dinner/invitation.py\n"
          ]
        }
      ]
    },
    {
      "cell_type": "markdown",
      "source": [
        "Let's check the directory structure once again."
      ],
      "metadata": {
        "id": "GU50My0coT3N"
      }
    },
    {
      "cell_type": "code",
      "source": [
        "! tree ."
      ],
      "metadata": {
        "colab": {
          "base_uri": "https://localhost:8080/"
        },
        "id": "2e6I_90noOp1",
        "outputId": "176333a2-7e10-449f-add7-1e48b0816840"
      },
      "execution_count": 30,
      "outputs": [
        {
          "output_type": "stream",
          "name": "stdout",
          "text": [
            ".\n",
            "└── humpty\n",
            "    ├── dinner\n",
            "    │   ├── __init__.py\n",
            "    │   └── invitation.py\n",
            "    ├── dinner.invitation.py\n",
            "    ├── dumpty.py\n",
            "    └── __init__.py\n",
            "\n",
            "3 directories, 4 files\n"
          ]
        }
      ]
    },
    {
      "cell_type": "markdown",
      "source": [
        "## Moment of Truth: Import and Test the Python Module\n",
        "\n",
        "Let's import and try out the module and it's functions we just created."
      ],
      "metadata": {
        "id": "Yr7ja-4poo_1"
      }
    },
    {
      "cell_type": "code",
      "source": [
        "from humpty.dinner.invitation import invite\n",
        "from humpty.dumpty import hasfallen\n",
        "\n",
        "name = \"Humpty\"\n",
        "if not hasfallen(name):\n",
        "    print(invite(name=name, date=\"2022-06-11\"))"
      ],
      "metadata": {
        "colab": {
          "base_uri": "https://localhost:8080/"
        },
        "id": "F0pFp8-2oWik",
        "outputId": "f9fd6c51-6048-474a-c349-6ae5bee5bde6"
      },
      "execution_count": 32,
      "outputs": [
        {
          "output_type": "stream",
          "name": "stdout",
          "text": [
            "\n",
            "    Dear Humpty,\n",
            "\n",
            "    You and your family are invited to the dinner at our mansion on next Saturday! \n",
            "    Dinner starts at 7 pm.\n",
            "\n",
            "    Regards\n",
            "    --\n",
            "    Sir Augustine Medvedev\n",
            "    Dated: 2022-06-11\n",
            "    \n"
          ]
        }
      ]
    },
    {
      "cell_type": "code",
      "source": [
        ""
      ],
      "metadata": {
        "id": "hKmFLRAqoai8"
      },
      "execution_count": null,
      "outputs": []
    }
  ]
}