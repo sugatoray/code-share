{
  "cells": [
    {
      "cell_type": "markdown",
      "metadata": {
        "id": "view-in-github",
        "colab_type": "text"
      },
      "source": [
        "<a href=\"https://colab.research.google.com/github/sugatoray/code-share/blob/master/notebooks/transpose_with_numpy_pytorch_einops.ipynb\" target=\"_parent\"><img src=\"https://colab.research.google.com/assets/colab-badge.svg\" alt=\"Open In Colab\"/></a>"
      ]
    },
    {
      "cell_type": "markdown",
      "source": [
        "**AUTHOR**: Sugato Ray\n",
        "\n",
        "- **LinkedIn**: https://www.linkedin.com/in/sugatoray/\n",
        "- **Twitter**: https://twitter.com/sugatoray\n",
        "- **GitHub**: https://github.com/sugatoray"
      ],
      "metadata": {
        "id": "Wyis2bnwc3_r"
      }
    },
    {
      "cell_type": "markdown",
      "source": [
        "<!--- Banner START ---\n",
        "![image](https://fakeimg.pl/1200x200/0288d1/fff/?text=NDArray-Tensor)\n",
        "![image](https://fakeimg.pl/1200x200/982601/fff/?text=Transpose)\n",
        "![image](https://fakeimg.pl/1200x200/028801/fff/?text=NumPy-PyTorch-Einops)\n",
        "--- Banner END --->\n",
        "\n",
        "<table>\n",
        "<tr>\n",
        "<td colspan=\"100%\">\n",
        "<p>\n",
        "\n",
        "![image](https://fakeimg.pl/1200x300/982601/fff/?text=Transpose)\n",
        "\n",
        "</p>\n",
        "</td>\n",
        "</tr>\n",
        "<tr>\n",
        "<td colspan=\"40%\">\n",
        "<p>\n",
        "\n",
        "![image](https://fakeimg.pl/1200x400/0288d1/fff/?text=NDArray-Tensor)\n",
        "\n",
        "</p>\n",
        "</td>\n",
        "<td colspan=\"20%\">\n",
        "<p>\n",
        "\n",
        "![image](https://fakeimg.pl/400x400/ffa500/000/?text=with)\n",
        "\n",
        "</p>\n",
        "</td>\n",
        "<td colspan=\"40%\">\n",
        "<p>\n",
        "\n",
        "![image](https://fakeimg.pl/1200x400/028801/fff/?text=NumPy-PyTorch-Einops)\n",
        "\n",
        "</p>\n",
        "</td>\n",
        "</tr>\n",
        "</table>"
      ],
      "metadata": {
        "id": "ZWUUd6CucAQi"
      }
    },
    {
      "cell_type": "markdown",
      "source": [
        "## Introduction\n",
        "\n",
        "Say, you have a `4D` tensor/ndarray: `x`.\n",
        "\n",
        "**NumPy**\n",
        "\n",
        "👉 If you use **NumPy**, `numpy.transpose(x, (1, 0, 2, 3))` allows you to swap dimensions even for a multidimensional array. Here it changes dims `(0, 1, 2, 3)` to `(1, 0, 2, 3)`.\n",
        "\n",
        "👉 Numpy also has two other methods called `numpy.swapaxes(x, 0, 1)` and `numpy.moveaxes(x, 0, 1)`.\n",
        "\n",
        "All three `numpy` methods above will give you the same output.\n",
        "\n",
        "**PyTorch**\n",
        "\n",
        "👉 Similarly, if you use **PyTorch**, `torch.transpose(x, 0, 3)` will swap dims `0` and `3`. Alternatively, you can use `torch.Tensor.transpose()`: `x.transpose(0, 3)`.\n",
        "\n",
        "👉 Alternatively, if you have heard of Einstein notation, there is a much simpler and more verbose notation that could not only do transposition, but a lot of other operations.\n",
        "\n",
        "**Einsum with NumPy or PyTorch**\n",
        "\n",
        "- `torch.einsum()` or `numpy.einsum()` could be used for that purpose.\n",
        "\n",
        "**Einops + PyTorch**\n",
        "\n",
        "👉 Or, you can use the **Einops** library to do the same with `einops.rearrange()` function."
      ],
      "metadata": {
        "id": "olKqULh0dqx5"
      }
    },
    {
      "cell_type": "markdown",
      "source": [
        "## A. With **NumPy**"
      ],
      "metadata": {
        "id": "5GMlE_kKLyyY"
      }
    },
    {
      "cell_type": "code",
      "execution_count": null,
      "metadata": {
        "colab": {
          "base_uri": "https://localhost:8080/"
        },
        "id": "lIYdn1woOS1n",
        "outputId": "39af5f2e-de94-4460-d44c-b1a4b26d8553"
      },
      "outputs": [
        {
          "output_type": "execute_result",
          "data": {
            "text/plain": [
              "(2, 3, 4, 5)"
            ]
          },
          "metadata": {},
          "execution_count": 3
        }
      ],
      "source": [
        "import numpy as np\n",
        "\n",
        "x = np.arange(120).reshape((2, 3, 4, 5))\n",
        "x.shape"
      ]
    },
    {
      "cell_type": "markdown",
      "source": [
        "### A.1. Transposition using `numpy.einsum()`\n",
        "\n",
        "- Docs: https://numpy.org/doc/stable/reference/generated/numpy.einsum.html#numpy.einsum"
      ],
      "metadata": {
        "id": "-g7h8uofHYLT"
      }
    },
    {
      "cell_type": "code",
      "source": [
        "x.shape, \"-->\", np.einsum(\"ijkl->jikl\", x).shape"
      ],
      "metadata": {
        "id": "FTE2z438HE8y",
        "outputId": "9937a30d-b80e-47a7-b429-bca23c5afac6",
        "colab": {
          "base_uri": "https://localhost:8080/"
        }
      },
      "execution_count": null,
      "outputs": [
        {
          "output_type": "execute_result",
          "data": {
            "text/plain": [
              "((2, 3, 4, 5), '-->', (3, 2, 4, 5))"
            ]
          },
          "metadata": {},
          "execution_count": 29
        }
      ]
    },
    {
      "cell_type": "markdown",
      "source": [
        "### A.2. Transposition using `numpy.transpose()`\n",
        "\n",
        "- Docs: https://numpy.org/doc/stable/reference/generated/numpy.transpose.html#numpy.transpose"
      ],
      "metadata": {
        "id": "x2n3ka2bIfFq"
      }
    },
    {
      "cell_type": "code",
      "source": [
        "x.shape, \"-->\", np.transpose(x, axes=(1, 0, 2, 3)).shape"
      ],
      "metadata": {
        "id": "fWuxLytOHMXJ",
        "outputId": "8ed954d7-6ba2-4ecc-deb6-0100d2209bb2",
        "colab": {
          "base_uri": "https://localhost:8080/"
        }
      },
      "execution_count": null,
      "outputs": [
        {
          "output_type": "execute_result",
          "data": {
            "text/plain": [
              "((2, 3, 4, 5), '-->', (3, 2, 4, 5))"
            ]
          },
          "metadata": {},
          "execution_count": 28
        }
      ]
    },
    {
      "cell_type": "markdown",
      "source": [
        "Observe that using `numpy.transpose()` or `x.transpose()` is **NOT** the same as using `x.T` (shown in the cell below), as for a multi-dimensional array just calling transpose on it is a bit ambiguous. You aren't really telling `numpy` which axes to apply tranposition on!\n",
        "\n",
        "This is why, in my opinion, although `numpy.transpose()` is a bit verbose, it is more self-explanatory and provides the user the option to specify the target set of dimensions (axes) to work with."
      ],
      "metadata": {
        "id": "j8ek9EhdPrwi"
      }
    },
    {
      "cell_type": "code",
      "source": [
        "x.shape, \"-->\", x.T.shape"
      ],
      "metadata": {
        "id": "Kmfgdp0mPe9h",
        "outputId": "53fde1e0-e75b-4fdd-8b81-39bd95175aa3",
        "colab": {
          "base_uri": "https://localhost:8080/"
        }
      },
      "execution_count": null,
      "outputs": [
        {
          "output_type": "execute_result",
          "data": {
            "text/plain": [
              "((2, 3, 4, 5), '-->', (5, 4, 3, 2))"
            ]
          },
          "metadata": {},
          "execution_count": 38
        }
      ]
    },
    {
      "cell_type": "markdown",
      "source": [
        "The code in the cell above is equivalent to the code in the next cell."
      ],
      "metadata": {
        "id": "2jtp9cuuQ6rj"
      }
    },
    {
      "cell_type": "code",
      "source": [
        "x.shape, \"-->\", np.transpose(x, axes=(3, 2, 1, 0)).shape"
      ],
      "metadata": {
        "id": "pnO0kqudQyph",
        "outputId": "127d501d-3ca7-49d0-e589-9a7a92258423",
        "colab": {
          "base_uri": "https://localhost:8080/"
        }
      },
      "execution_count": null,
      "outputs": [
        {
          "output_type": "execute_result",
          "data": {
            "text/plain": [
              "((2, 3, 4, 5), '-->', (5, 4, 3, 2))"
            ]
          },
          "metadata": {},
          "execution_count": 37
        }
      ]
    },
    {
      "cell_type": "markdown",
      "source": [
        "### A.3. Transposition using `numpy.swapaxes()`\n",
        "\n",
        "- Docs: https://numpy.org/doc/stable/reference/generated/numpy.swapaxes.html#numpy.swapaxes"
      ],
      "metadata": {
        "id": "gOGdwBF4IlNf"
      }
    },
    {
      "cell_type": "code",
      "source": [
        "x.shape, \"-->\", np.swapaxes(x, 0, 1).shape"
      ],
      "metadata": {
        "id": "-MHIueOYIHsq",
        "outputId": "ed73ea6f-3352-4ad9-f156-99ba43049f5b",
        "colab": {
          "base_uri": "https://localhost:8080/"
        }
      },
      "execution_count": null,
      "outputs": [
        {
          "output_type": "execute_result",
          "data": {
            "text/plain": [
              "((2, 3, 4, 5), '-->', (3, 2, 4, 5))"
            ]
          },
          "metadata": {},
          "execution_count": 27
        }
      ]
    },
    {
      "cell_type": "markdown",
      "source": [
        "### A.4. Transposition using `numpy.moveaxis()`\n",
        "\n",
        "- Docs: https://numpy.org/doc/stable/reference/generated/numpy.moveaxis.html#numpy.moveaxis"
      ],
      "metadata": {
        "id": "s3I1WObTIttD"
      }
    },
    {
      "cell_type": "code",
      "source": [
        "x.shape, \"-->\", np.moveaxis(x, 0, 1).shape"
      ],
      "metadata": {
        "id": "M4MmNAraISM_",
        "outputId": "decb18da-bf27-425a-a3c1-2958e4bfb160",
        "colab": {
          "base_uri": "https://localhost:8080/"
        }
      },
      "execution_count": null,
      "outputs": [
        {
          "output_type": "execute_result",
          "data": {
            "text/plain": [
              "((2, 3, 4, 5), '-->', (3, 2, 4, 5))"
            ]
          },
          "metadata": {},
          "execution_count": 26
        }
      ]
    },
    {
      "cell_type": "markdown",
      "source": [
        "## B. With **PyTorch**"
      ],
      "metadata": {
        "id": "FXI2RB3_L8fC"
      }
    },
    {
      "cell_type": "code",
      "source": [
        "import torch\n",
        "\n",
        "y = torch.from_numpy(x)\n",
        "tuple(y.shape)"
      ],
      "metadata": {
        "id": "IgkKGepXIV7O",
        "outputId": "200b8ba0-9584-49d5-b255-b2feacbd55fc",
        "colab": {
          "base_uri": "https://localhost:8080/"
        }
      },
      "execution_count": null,
      "outputs": [
        {
          "output_type": "execute_result",
          "data": {
            "text/plain": [
              "(2, 3, 4, 5)"
            ]
          },
          "metadata": {},
          "execution_count": 30
        }
      ]
    },
    {
      "cell_type": "markdown",
      "source": [
        "### B.1. Transposition using `torch.einsum()`\n",
        "\n",
        "- Docs: https://pytorch.org/docs/master/generated/torch.einsum.html"
      ],
      "metadata": {
        "id": "wYQfRgLRLe2x"
      }
    },
    {
      "cell_type": "code",
      "source": [
        "tuple(y.shape), \"-->\", tuple(torch.einsum(\"ijkl->jikl\", y).shape)"
      ],
      "metadata": {
        "id": "wyhg8H5tJvHZ",
        "outputId": "feb3cf48-0a58-4685-ac50-f279b1a187cc",
        "colab": {
          "base_uri": "https://localhost:8080/"
        }
      },
      "execution_count": null,
      "outputs": [
        {
          "output_type": "execute_result",
          "data": {
            "text/plain": [
              "((2, 3, 4, 5), '-->', (3, 2, 4, 5))"
            ]
          },
          "metadata": {},
          "execution_count": 31
        }
      ]
    },
    {
      "cell_type": "markdown",
      "source": [
        "### B.2. Transposition using `torch.transpose()`\n",
        "\n",
        "- Docs: https://pytorch.org/docs/master/generated/torch.transpose.html\n",
        "\n",
        "> Note the difference b/w `numpy.transpose(x, axes=(1, 0, 2, 3))` and `torch.transpose(y, 1, 0)`."
      ],
      "metadata": {
        "id": "iaDJjSwtKfoQ"
      }
    },
    {
      "cell_type": "code",
      "source": [
        "tuple(y.shape), \"-->\", tuple(torch.transpose(y, 1, 0).shape)"
      ],
      "metadata": {
        "id": "7bZPoKTEKB_U",
        "outputId": "e7b67c3d-6ff7-47cf-e96c-ed8a35ec6a2d",
        "colab": {
          "base_uri": "https://localhost:8080/"
        }
      },
      "execution_count": null,
      "outputs": [
        {
          "output_type": "execute_result",
          "data": {
            "text/plain": [
              "((2, 3, 4, 5), '-->', (3, 2, 4, 5))"
            ]
          },
          "metadata": {},
          "execution_count": 32
        }
      ]
    },
    {
      "cell_type": "code",
      "source": [
        "tuple(y.shape), \"-->\", tuple(y.mT.shape) # use y.mT instead of y.T ; otherwise use y.permute(*torch.arange(y.ndim - 1, -1, -1))"
      ],
      "metadata": {
        "id": "1GcOK0toKP_N",
        "outputId": "cae147bf-6b49-4d34-cfe2-92b402c613ed",
        "colab": {
          "base_uri": "https://localhost:8080/"
        }
      },
      "execution_count": null,
      "outputs": [
        {
          "output_type": "execute_result",
          "data": {
            "text/plain": [
              "((2, 3, 4, 5), '-->', (2, 3, 5, 4))"
            ]
          },
          "metadata": {},
          "execution_count": 33
        }
      ]
    },
    {
      "cell_type": "markdown",
      "source": [
        "But using `torch.transpose()` gives you the option to swap non-adjascent dimensions as well.\n",
        "\n",
        "**Example**:\n",
        "\n",
        "- dims: `(0, 1, 2, 3) --> (2, 1, 0, 3)`\n",
        "- shape: `(2, 3, 4, 5) --> (4, 3, 2, 5)`"
      ],
      "metadata": {
        "id": "Jh84UX9TNdyA"
      }
    },
    {
      "cell_type": "code",
      "source": [
        "tuple(y.shape), \"-->\", tuple(torch.transpose(y, 2, 0).shape)"
      ],
      "metadata": {
        "id": "wpMgvFy0MP-B",
        "outputId": "09e4bb67-33f1-4c26-f057-40857e030fc9",
        "colab": {
          "base_uri": "https://localhost:8080/"
        }
      },
      "execution_count": null,
      "outputs": [
        {
          "output_type": "execute_result",
          "data": {
            "text/plain": [
              "((2, 3, 4, 5), '-->', (4, 3, 2, 5))"
            ]
          },
          "metadata": {},
          "execution_count": 34
        }
      ]
    },
    {
      "cell_type": "markdown",
      "source": [
        "### B.3a. Transposition using `torch.swapaxes()`\n",
        "\n",
        "- Docs: https://pytorch.org/docs/master/generated/torch.swapaxes.html"
      ],
      "metadata": {
        "id": "GJZSUyIWYsFa"
      }
    },
    {
      "cell_type": "code",
      "source": [
        "tuple(y.shape), \"-->\", tuple(torch.swapaxes(y, 0, 1).shape)"
      ],
      "metadata": {
        "id": "U_eQXm4VNa4t",
        "outputId": "ddfcb290-c45b-4968-d4de-ef180a14e15a",
        "colab": {
          "base_uri": "https://localhost:8080/"
        }
      },
      "execution_count": null,
      "outputs": [
        {
          "output_type": "execute_result",
          "data": {
            "text/plain": [
              "((2, 3, 4, 5), '-->', (3, 2, 4, 5))"
            ]
          },
          "metadata": {},
          "execution_count": 39
        }
      ]
    },
    {
      "cell_type": "markdown",
      "source": [
        "### B.3b. Transposition using `torch.swapdims()`\n",
        "\n",
        "- Docs: https://pytorch.org/docs/master/generated/torch.swapdims.html"
      ],
      "metadata": {
        "id": "5sBveFg_YyKv"
      }
    },
    {
      "cell_type": "code",
      "source": [
        "tuple(y.shape), \"-->\", tuple(torch.swapdims(y, 0, 1).shape)"
      ],
      "metadata": {
        "id": "kLmL7oWERhac",
        "outputId": "b039b3e2-77d1-4552-896e-ce36abc7f00d",
        "colab": {
          "base_uri": "https://localhost:8080/"
        }
      },
      "execution_count": null,
      "outputs": [
        {
          "output_type": "execute_result",
          "data": {
            "text/plain": [
              "((2, 3, 4, 5), '-->', (3, 2, 4, 5))"
            ]
          },
          "metadata": {},
          "execution_count": 40
        }
      ]
    },
    {
      "cell_type": "markdown",
      "source": [
        "### B.4a. Transposition using `torch.moveaxis()`\n",
        "\n",
        "- Docs: https://pytorch.org/docs/master/generated/torch.moveaxis.html"
      ],
      "metadata": {
        "id": "mtG7iOv3Y2rf"
      }
    },
    {
      "cell_type": "code",
      "source": [
        "tuple(y.shape), \"-->\", tuple(torch.moveaxis(y, 0, 1).shape)"
      ],
      "metadata": {
        "id": "aZysIeewRlp_",
        "outputId": "4909e5e4-9ba1-442a-d97a-ad163b760674",
        "colab": {
          "base_uri": "https://localhost:8080/"
        }
      },
      "execution_count": null,
      "outputs": [
        {
          "output_type": "execute_result",
          "data": {
            "text/plain": [
              "((2, 3, 4, 5), '-->', (3, 2, 4, 5))"
            ]
          },
          "metadata": {},
          "execution_count": 41
        }
      ]
    },
    {
      "cell_type": "markdown",
      "source": [
        "### B.4b. Transposition using `torch.movedim()`\n",
        "\n",
        "- Docs: https://pytorch.org/docs/master/generated/torch.movedim.html"
      ],
      "metadata": {
        "id": "4NuIs6U7Y-Cd"
      }
    },
    {
      "cell_type": "code",
      "source": [
        "tuple(y.shape), \"-->\", tuple(torch.movedim(y, 0, 1).shape)"
      ],
      "metadata": {
        "id": "aF4gvdP_Ru3k",
        "outputId": "2d091c70-03e2-4caa-a681-f89200fffff0",
        "colab": {
          "base_uri": "https://localhost:8080/"
        }
      },
      "execution_count": null,
      "outputs": [
        {
          "output_type": "execute_result",
          "data": {
            "text/plain": [
              "((2, 3, 4, 5), '-->', (3, 2, 4, 5))"
            ]
          },
          "metadata": {},
          "execution_count": 43
        }
      ]
    },
    {
      "cell_type": "markdown",
      "source": [
        "## C. With **Einops**"
      ],
      "metadata": {
        "id": "EYrPkKTCWoF5"
      }
    },
    {
      "cell_type": "markdown",
      "source": [
        "The intuitive but minimalistic API of `einops` ships out three operations: `rearrange`, `reduce` and `repeat`.\n",
        "\n",
        "The three operations, as shown in `einops` tutorial, cover: \n",
        "- stacking\n",
        "- reshape\n",
        "- transposition\n",
        "- squeeze/unsqueeze\n",
        "- repeat\n",
        "- tile\n",
        "- concatenate\n",
        "- view\n",
        "- numerous reductions\n",
        "\n",
        "Source: https://github.com/arogozhnikov/einops"
      ],
      "metadata": {
        "id": "sKYcwx8iWzgb"
      }
    },
    {
      "cell_type": "code",
      "source": [
        "%%capture\n",
        "! pip install -Uqq einops"
      ],
      "metadata": {
        "id": "OYglL_ecSCbk"
      },
      "execution_count": null,
      "outputs": []
    },
    {
      "cell_type": "code",
      "source": [
        "from einops import rearrange\n",
        "from einops.layers.torch import Rearrange # See in einpos docs to know how to use Rearrange"
      ],
      "metadata": {
        "id": "iSDngGdFRzfn"
      },
      "execution_count": null,
      "outputs": []
    },
    {
      "cell_type": "markdown",
      "source": [
        "Now, that we have seen how to use `einsum()` in both `numpy` and `torch`, you will find the following treatment quite intuitive."
      ],
      "metadata": {
        "id": "noXl4lDkV4b_"
      }
    },
    {
      "cell_type": "markdown",
      "source": [
        "### Transposition using `einpos.rearrange()`\n",
        "\n",
        "- Docs: \n",
        "  - GitHub: https://github.com/arogozhnikov/einops\n",
        "  - Examples: http://einops.rocks/pytorch-examples.html"
      ],
      "metadata": {
        "id": "hdushf9BZF3X"
      }
    },
    {
      "cell_type": "code",
      "source": [
        "tuple(y.shape), \"-->\", tuple(rearrange(y, 'i j k l -> j i k l').shape)"
      ],
      "metadata": {
        "id": "2bmWUAE7SBLM",
        "outputId": "bf9dbf6d-60d7-4cf2-d688-3109a93ac049",
        "colab": {
          "base_uri": "https://localhost:8080/"
        }
      },
      "execution_count": null,
      "outputs": [
        {
          "output_type": "execute_result",
          "data": {
            "text/plain": [
              "((2, 3, 4, 5), '-->', (3, 2, 4, 5))"
            ]
          },
          "metadata": {},
          "execution_count": 53
        }
      ]
    },
    {
      "cell_type": "markdown",
      "source": [
        "In fact, you can even use **words** instead of single-characters as indices (see below)."
      ],
      "metadata": {
        "id": "Vb-m0BntVpgp"
      }
    },
    {
      "cell_type": "code",
      "source": [
        "tuple(y.shape), \"-->\", tuple(rearrange(y, 'time channel h w -> channel time h w').shape)"
      ],
      "metadata": {
        "id": "DMCV3i_VVCC2",
        "outputId": "8157df1e-acf1-496b-e18f-e510951936bf",
        "colab": {
          "base_uri": "https://localhost:8080/"
        }
      },
      "execution_count": null,
      "outputs": [
        {
          "output_type": "execute_result",
          "data": {
            "text/plain": [
              "((2, 3, 4, 5), '-->', (3, 2, 4, 5))"
            ]
          },
          "metadata": {},
          "execution_count": 54
        }
      ]
    },
    {
      "cell_type": "code",
      "source": [
        ""
      ],
      "metadata": {
        "id": "mVeDKGGkVn93"
      },
      "execution_count": null,
      "outputs": []
    }
  ],
  "metadata": {
    "colab": {
      "name": "transpose_with_numpy_pytorch_einops",
      "provenance": [],
      "toc_visible": true,
      "collapsed_sections": [],
      "include_colab_link": true
    },
    "kernelspec": {
      "display_name": "Python 3",
      "name": "python3"
    }
  },
  "nbformat": 4,
  "nbformat_minor": 0
}