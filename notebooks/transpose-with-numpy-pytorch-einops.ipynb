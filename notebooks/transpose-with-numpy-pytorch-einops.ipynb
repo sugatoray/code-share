{
 "cells": [
  {
   "cell_type": "markdown",
   "id": "7e0c03a4",
   "metadata": {
    "id": "view-in-github",
    "papermill": {
     "duration": 0.013481,
     "end_time": "2022-05-29T13:08:54.765098",
     "exception": false,
     "start_time": "2022-05-29T13:08:54.751617",
     "status": "completed"
    },
    "tags": []
   },
   "source": [
    "<a href=\"https://colab.research.google.com/github/sugatoray/code-share/blob/master/notebooks/transpose_with_numpy_pytorch_einops.ipynb\" target=\"_parent\"><img src=\"https://colab.research.google.com/assets/colab-badge.svg\" alt=\"Open In Colab\"/></a>"
   ]
  },
  {
   "cell_type": "markdown",
   "id": "41f973a7",
   "metadata": {
    "id": "Wyis2bnwc3_r",
    "papermill": {
     "duration": 0.011993,
     "end_time": "2022-05-29T13:08:54.789259",
     "exception": false,
     "start_time": "2022-05-29T13:08:54.777266",
     "status": "completed"
    },
    "tags": []
   },
   "source": [
    "**AUTHOR**: Sugato Ray\n",
    "\n",
    "- **LinkedIn**: https://www.linkedin.com/in/sugatoray/\n",
    "- **Twitter**: https://twitter.com/sugatoray\n",
    "- **GitHub**: https://github.com/sugatoray"
   ]
  },
  {
   "cell_type": "markdown",
   "id": "60545eb7",
   "metadata": {
    "id": "ZWUUd6CucAQi",
    "papermill": {
     "duration": 0.011593,
     "end_time": "2022-05-29T13:08:54.812715",
     "exception": false,
     "start_time": "2022-05-29T13:08:54.801122",
     "status": "completed"
    },
    "tags": []
   },
   "source": [
    "<!--- Banner START ---\n",
    "![image](https://fakeimg.pl/1200x200/0288d1/fff/?text=NDArray-Tensor)\n",
    "![image](https://fakeimg.pl/1200x200/982601/fff/?text=Transpose)\n",
    "![image](https://fakeimg.pl/1200x200/028801/fff/?text=NumPy-PyTorch-Einops)\n",
    "--- Banner END --->\n",
    "\n",
    "<table>\n",
    "<tr>\n",
    "<td colspan=\"100%\">\n",
    "<p>\n",
    "\n",
    "![image](https://fakeimg.pl/1200x300/982601/fff/?text=Transpose)\n",
    "\n",
    "</p>\n",
    "</td>\n",
    "</tr>\n",
    "<tr>\n",
    "<td colspan=\"40%\">\n",
    "<p>\n",
    "\n",
    "![image](https://fakeimg.pl/1200x400/0288d1/fff/?text=NDArray-Tensor)\n",
    "\n",
    "</p>\n",
    "</td>\n",
    "<td colspan=\"20%\">\n",
    "<p>\n",
    "\n",
    "![image](https://fakeimg.pl/400x400/ffa500/000/?text=with)\n",
    "\n",
    "</p>\n",
    "</td>\n",
    "<td colspan=\"40%\">\n",
    "<p>\n",
    "\n",
    "![image](https://fakeimg.pl/1200x400/028801/fff/?text=NumPy-PyTorch-Einops)\n",
    "\n",
    "</p>\n",
    "</td>\n",
    "</tr>\n",
    "</table>"
   ]
  },
  {
   "cell_type": "markdown",
   "id": "b8210910",
   "metadata": {
    "id": "olKqULh0dqx5",
    "papermill": {
     "duration": 0.011584,
     "end_time": "2022-05-29T13:08:54.836171",
     "exception": false,
     "start_time": "2022-05-29T13:08:54.824587",
     "status": "completed"
    },
    "tags": []
   },
   "source": [
    "## Introduction\n",
    "\n",
    "Say, you have a `4D` tensor/ndarray: `x`.\n",
    "\n",
    "**NumPy**\n",
    "\n",
    "👉 If you use **NumPy**, `numpy.transpose(x, (1, 0, 2, 3))` allows you to swap dimensions even for a multidimensional array. Here it changes dims `(0, 1, 2, 3)` to `(1, 0, 2, 3)`.\n",
    "\n",
    "👉 Numpy also has two other methods called `numpy.swapaxes(x, 0, 1)` and `numpy.moveaxes(x, 0, 1)`.\n",
    "\n",
    "All three `numpy` methods above will give you the same output.\n",
    "\n",
    "**PyTorch**\n",
    "\n",
    "👉 Similarly, if you use **PyTorch**, `torch.transpose(x, 0, 3)` will swap dims `0` and `3`. Alternatively, you can use `torch.Tensor.transpose()`: `x.transpose(0, 3)`.\n",
    "\n",
    "👉 Alternatively, if you have heard of Einstein notation, there is a much simpler and more verbose notation that could not only do transposition, but a lot of other operations.\n",
    "\n",
    "**Einsum with NumPy or PyTorch**\n",
    "\n",
    "- `torch.einsum()` or `numpy.einsum()` could be used for that purpose.\n",
    "\n",
    "**Einops + PyTorch**\n",
    "\n",
    "👉 Or, you can use the **Einops** library to do the same with `einops.rearrange()` function."
   ]
  },
  {
   "cell_type": "markdown",
   "id": "ac971789",
   "metadata": {
    "id": "5GMlE_kKLyyY",
    "papermill": {
     "duration": 0.011528,
     "end_time": "2022-05-29T13:08:54.859617",
     "exception": false,
     "start_time": "2022-05-29T13:08:54.848089",
     "status": "completed"
    },
    "tags": []
   },
   "source": [
    "## A. With **NumPy**"
   ]
  },
  {
   "cell_type": "code",
   "execution_count": 1,
   "id": "4035a6d8",
   "metadata": {
    "execution": {
     "iopub.execute_input": "2022-05-29T13:08:54.885194Z",
     "iopub.status.busy": "2022-05-29T13:08:54.884728Z",
     "iopub.status.idle": "2022-05-29T13:08:54.899638Z",
     "shell.execute_reply": "2022-05-29T13:08:54.898888Z"
    },
    "id": "lIYdn1woOS1n",
    "outputId": "39af5f2e-de94-4460-d44c-b1a4b26d8553",
    "papermill": {
     "duration": 0.030724,
     "end_time": "2022-05-29T13:08:54.902161",
     "exception": false,
     "start_time": "2022-05-29T13:08:54.871437",
     "status": "completed"
    },
    "tags": []
   },
   "outputs": [
    {
     "data": {
      "text/plain": [
       "(2, 3, 4, 5)"
      ]
     },
     "execution_count": 1,
     "metadata": {},
     "output_type": "execute_result"
    }
   ],
   "source": [
    "import numpy as np\n",
    "\n",
    "x = np.arange(120).reshape((2, 3, 4, 5))\n",
    "x.shape"
   ]
  },
  {
   "cell_type": "markdown",
   "id": "df57eede",
   "metadata": {
    "id": "-g7h8uofHYLT",
    "papermill": {
     "duration": 0.011764,
     "end_time": "2022-05-29T13:08:54.926524",
     "exception": false,
     "start_time": "2022-05-29T13:08:54.914760",
     "status": "completed"
    },
    "tags": []
   },
   "source": [
    "### A.1. Transposition using `numpy.einsum()`\n",
    "\n",
    "- Docs: https://numpy.org/doc/stable/reference/generated/numpy.einsum.html#numpy.einsum"
   ]
  },
  {
   "cell_type": "code",
   "execution_count": 2,
   "id": "401fe45b",
   "metadata": {
    "execution": {
     "iopub.execute_input": "2022-05-29T13:08:54.952363Z",
     "iopub.status.busy": "2022-05-29T13:08:54.951813Z",
     "iopub.status.idle": "2022-05-29T13:08:54.957920Z",
     "shell.execute_reply": "2022-05-29T13:08:54.956883Z"
    },
    "id": "FTE2z438HE8y",
    "outputId": "9937a30d-b80e-47a7-b429-bca23c5afac6",
    "papermill": {
     "duration": 0.021354,
     "end_time": "2022-05-29T13:08:54.959921",
     "exception": false,
     "start_time": "2022-05-29T13:08:54.938567",
     "status": "completed"
    },
    "tags": []
   },
   "outputs": [
    {
     "data": {
      "text/plain": [
       "((2, 3, 4, 5), '-->', (3, 2, 4, 5))"
      ]
     },
     "execution_count": 2,
     "metadata": {},
     "output_type": "execute_result"
    }
   ],
   "source": [
    "x.shape, \"-->\", np.einsum(\"ijkl->jikl\", x).shape"
   ]
  },
  {
   "cell_type": "markdown",
   "id": "65f78e9b",
   "metadata": {
    "id": "x2n3ka2bIfFq",
    "papermill": {
     "duration": 0.011617,
     "end_time": "2022-05-29T13:08:54.984212",
     "exception": false,
     "start_time": "2022-05-29T13:08:54.972595",
     "status": "completed"
    },
    "tags": []
   },
   "source": [
    "### A.2. Transposition using `numpy.transpose()`\n",
    "\n",
    "- Docs: https://numpy.org/doc/stable/reference/generated/numpy.transpose.html#numpy.transpose"
   ]
  },
  {
   "cell_type": "code",
   "execution_count": 3,
   "id": "22084480",
   "metadata": {
    "execution": {
     "iopub.execute_input": "2022-05-29T13:08:55.010276Z",
     "iopub.status.busy": "2022-05-29T13:08:55.009593Z",
     "iopub.status.idle": "2022-05-29T13:08:55.016035Z",
     "shell.execute_reply": "2022-05-29T13:08:55.015075Z"
    },
    "id": "fWuxLytOHMXJ",
    "outputId": "8ed954d7-6ba2-4ecc-deb6-0100d2209bb2",
    "papermill": {
     "duration": 0.021874,
     "end_time": "2022-05-29T13:08:55.018135",
     "exception": false,
     "start_time": "2022-05-29T13:08:54.996261",
     "status": "completed"
    },
    "tags": []
   },
   "outputs": [
    {
     "data": {
      "text/plain": [
       "((2, 3, 4, 5), '-->', (3, 2, 4, 5))"
      ]
     },
     "execution_count": 3,
     "metadata": {},
     "output_type": "execute_result"
    }
   ],
   "source": [
    "x.shape, \"-->\", np.transpose(x, axes=(1, 0, 2, 3)).shape"
   ]
  },
  {
   "cell_type": "markdown",
   "id": "10bb3f48",
   "metadata": {
    "id": "j8ek9EhdPrwi",
    "papermill": {
     "duration": 0.014522,
     "end_time": "2022-05-29T13:08:55.045455",
     "exception": false,
     "start_time": "2022-05-29T13:08:55.030933",
     "status": "completed"
    },
    "tags": []
   },
   "source": [
    "Observe that using `numpy.transpose()` or `x.transpose()` is **NOT** the same as using `x.T` (shown in the cell below), as for a multi-dimensional array just calling transpose on it is a bit ambiguous. You aren't really telling `numpy` which axes to apply tranposition on!\n",
    "\n",
    "This is why, in my opinion, although `numpy.transpose()` is a bit verbose, it is more self-explanatory and provides the user the option to specify the target set of dimensions (axes) to work with."
   ]
  },
  {
   "cell_type": "code",
   "execution_count": 4,
   "id": "2c12f554",
   "metadata": {
    "execution": {
     "iopub.execute_input": "2022-05-29T13:08:55.076978Z",
     "iopub.status.busy": "2022-05-29T13:08:55.076559Z",
     "iopub.status.idle": "2022-05-29T13:08:55.082551Z",
     "shell.execute_reply": "2022-05-29T13:08:55.081592Z"
    },
    "id": "Kmfgdp0mPe9h",
    "outputId": "53fde1e0-e75b-4fdd-8b81-39bd95175aa3",
    "papermill": {
     "duration": 0.024503,
     "end_time": "2022-05-29T13:08:55.084792",
     "exception": false,
     "start_time": "2022-05-29T13:08:55.060289",
     "status": "completed"
    },
    "tags": []
   },
   "outputs": [
    {
     "data": {
      "text/plain": [
       "((2, 3, 4, 5), '-->', (5, 4, 3, 2))"
      ]
     },
     "execution_count": 4,
     "metadata": {},
     "output_type": "execute_result"
    }
   ],
   "source": [
    "x.shape, \"-->\", x.T.shape"
   ]
  },
  {
   "cell_type": "markdown",
   "id": "cdba81f6",
   "metadata": {
    "id": "2jtp9cuuQ6rj",
    "papermill": {
     "duration": 0.011921,
     "end_time": "2022-05-29T13:08:55.109178",
     "exception": false,
     "start_time": "2022-05-29T13:08:55.097257",
     "status": "completed"
    },
    "tags": []
   },
   "source": [
    "The code in the cell above is equivalent to the code in the next cell."
   ]
  },
  {
   "cell_type": "code",
   "execution_count": 5,
   "id": "e783ae83",
   "metadata": {
    "execution": {
     "iopub.execute_input": "2022-05-29T13:08:55.135534Z",
     "iopub.status.busy": "2022-05-29T13:08:55.135113Z",
     "iopub.status.idle": "2022-05-29T13:08:55.141915Z",
     "shell.execute_reply": "2022-05-29T13:08:55.141151Z"
    },
    "id": "pnO0kqudQyph",
    "outputId": "127d501d-3ca7-49d0-e589-9a7a92258423",
    "papermill": {
     "duration": 0.022279,
     "end_time": "2022-05-29T13:08:55.143737",
     "exception": false,
     "start_time": "2022-05-29T13:08:55.121458",
     "status": "completed"
    },
    "tags": []
   },
   "outputs": [
    {
     "data": {
      "text/plain": [
       "((2, 3, 4, 5), '-->', (5, 4, 3, 2))"
      ]
     },
     "execution_count": 5,
     "metadata": {},
     "output_type": "execute_result"
    }
   ],
   "source": [
    "x.shape, \"-->\", np.transpose(x, axes=(3, 2, 1, 0)).shape"
   ]
  },
  {
   "cell_type": "markdown",
   "id": "8c5ad369",
   "metadata": {
    "id": "gOGdwBF4IlNf",
    "papermill": {
     "duration": 0.011981,
     "end_time": "2022-05-29T13:08:55.168133",
     "exception": false,
     "start_time": "2022-05-29T13:08:55.156152",
     "status": "completed"
    },
    "tags": []
   },
   "source": [
    "### A.3. Transposition using `numpy.swapaxes()`\n",
    "\n",
    "- Docs: https://numpy.org/doc/stable/reference/generated/numpy.swapaxes.html#numpy.swapaxes"
   ]
  },
  {
   "cell_type": "code",
   "execution_count": 6,
   "id": "dea9df28",
   "metadata": {
    "execution": {
     "iopub.execute_input": "2022-05-29T13:08:55.195768Z",
     "iopub.status.busy": "2022-05-29T13:08:55.195075Z",
     "iopub.status.idle": "2022-05-29T13:08:55.200959Z",
     "shell.execute_reply": "2022-05-29T13:08:55.200276Z"
    },
    "id": "-MHIueOYIHsq",
    "outputId": "ed73ea6f-3352-4ad9-f156-99ba43049f5b",
    "papermill": {
     "duration": 0.021339,
     "end_time": "2022-05-29T13:08:55.202793",
     "exception": false,
     "start_time": "2022-05-29T13:08:55.181454",
     "status": "completed"
    },
    "tags": []
   },
   "outputs": [
    {
     "data": {
      "text/plain": [
       "((2, 3, 4, 5), '-->', (3, 2, 4, 5))"
      ]
     },
     "execution_count": 6,
     "metadata": {},
     "output_type": "execute_result"
    }
   ],
   "source": [
    "x.shape, \"-->\", np.swapaxes(x, 0, 1).shape"
   ]
  },
  {
   "cell_type": "markdown",
   "id": "1664549e",
   "metadata": {
    "id": "s3I1WObTIttD",
    "papermill": {
     "duration": 0.012021,
     "end_time": "2022-05-29T13:08:55.227224",
     "exception": false,
     "start_time": "2022-05-29T13:08:55.215203",
     "status": "completed"
    },
    "tags": []
   },
   "source": [
    "### A.4. Transposition using `numpy.moveaxis()`\n",
    "\n",
    "- Docs: https://numpy.org/doc/stable/reference/generated/numpy.moveaxis.html#numpy.moveaxis"
   ]
  },
  {
   "cell_type": "code",
   "execution_count": 7,
   "id": "9be6bd5f",
   "metadata": {
    "execution": {
     "iopub.execute_input": "2022-05-29T13:08:55.253804Z",
     "iopub.status.busy": "2022-05-29T13:08:55.253363Z",
     "iopub.status.idle": "2022-05-29T13:08:55.259363Z",
     "shell.execute_reply": "2022-05-29T13:08:55.258683Z"
    },
    "id": "M4MmNAraISM_",
    "outputId": "decb18da-bf27-425a-a3c1-2958e4bfb160",
    "papermill": {
     "duration": 0.021532,
     "end_time": "2022-05-29T13:08:55.261187",
     "exception": false,
     "start_time": "2022-05-29T13:08:55.239655",
     "status": "completed"
    },
    "tags": []
   },
   "outputs": [
    {
     "data": {
      "text/plain": [
       "((2, 3, 4, 5), '-->', (3, 2, 4, 5))"
      ]
     },
     "execution_count": 7,
     "metadata": {},
     "output_type": "execute_result"
    }
   ],
   "source": [
    "x.shape, \"-->\", np.moveaxis(x, 0, 1).shape"
   ]
  },
  {
   "cell_type": "markdown",
   "id": "16bfa71d",
   "metadata": {
    "id": "FXI2RB3_L8fC",
    "papermill": {
     "duration": 0.012186,
     "end_time": "2022-05-29T13:08:55.286020",
     "exception": false,
     "start_time": "2022-05-29T13:08:55.273834",
     "status": "completed"
    },
    "tags": []
   },
   "source": [
    "## B. With **PyTorch**"
   ]
  },
  {
   "cell_type": "code",
   "execution_count": 8,
   "id": "678273d6",
   "metadata": {
    "execution": {
     "iopub.execute_input": "2022-05-29T13:08:55.313012Z",
     "iopub.status.busy": "2022-05-29T13:08:55.312399Z",
     "iopub.status.idle": "2022-05-29T13:08:57.155923Z",
     "shell.execute_reply": "2022-05-29T13:08:57.154763Z"
    },
    "id": "IgkKGepXIV7O",
    "outputId": "200b8ba0-9584-49d5-b255-b2feacbd55fc",
    "papermill": {
     "duration": 1.859665,
     "end_time": "2022-05-29T13:08:57.158237",
     "exception": false,
     "start_time": "2022-05-29T13:08:55.298572",
     "status": "completed"
    },
    "tags": []
   },
   "outputs": [
    {
     "data": {
      "text/plain": [
       "(2, 3, 4, 5)"
      ]
     },
     "execution_count": 8,
     "metadata": {},
     "output_type": "execute_result"
    }
   ],
   "source": [
    "import torch\n",
    "\n",
    "y = torch.from_numpy(x)\n",
    "tuple(y.shape)"
   ]
  },
  {
   "cell_type": "markdown",
   "id": "fd84e436",
   "metadata": {
    "id": "wYQfRgLRLe2x",
    "papermill": {
     "duration": 0.013209,
     "end_time": "2022-05-29T13:08:57.184164",
     "exception": false,
     "start_time": "2022-05-29T13:08:57.170955",
     "status": "completed"
    },
    "tags": []
   },
   "source": [
    "### B.1. Transposition using `torch.einsum()`\n",
    "\n",
    "- Docs: https://pytorch.org/docs/master/generated/torch.einsum.html"
   ]
  },
  {
   "cell_type": "code",
   "execution_count": 9,
   "id": "e0650690",
   "metadata": {
    "execution": {
     "iopub.execute_input": "2022-05-29T13:08:57.212335Z",
     "iopub.status.busy": "2022-05-29T13:08:57.211389Z",
     "iopub.status.idle": "2022-05-29T13:08:57.221061Z",
     "shell.execute_reply": "2022-05-29T13:08:57.220063Z"
    },
    "id": "wyhg8H5tJvHZ",
    "outputId": "feb3cf48-0a58-4685-ac50-f279b1a187cc",
    "papermill": {
     "duration": 0.02611,
     "end_time": "2022-05-29T13:08:57.223194",
     "exception": false,
     "start_time": "2022-05-29T13:08:57.197084",
     "status": "completed"
    },
    "tags": []
   },
   "outputs": [
    {
     "data": {
      "text/plain": [
       "((2, 3, 4, 5), '-->', (3, 2, 4, 5))"
      ]
     },
     "execution_count": 9,
     "metadata": {},
     "output_type": "execute_result"
    }
   ],
   "source": [
    "tuple(y.shape), \"-->\", tuple(torch.einsum(\"ijkl->jikl\", y).shape)"
   ]
  },
  {
   "cell_type": "markdown",
   "id": "4791ff2f",
   "metadata": {
    "id": "iaDJjSwtKfoQ",
    "papermill": {
     "duration": 0.012475,
     "end_time": "2022-05-29T13:08:57.248622",
     "exception": false,
     "start_time": "2022-05-29T13:08:57.236147",
     "status": "completed"
    },
    "tags": []
   },
   "source": [
    "### B.2. Transposition using `torch.transpose()`\n",
    "\n",
    "- Docs: https://pytorch.org/docs/master/generated/torch.transpose.html\n",
    "\n",
    "> Note the difference b/w `numpy.transpose(x, axes=(1, 0, 2, 3))` and `torch.transpose(y, 1, 0)`."
   ]
  },
  {
   "cell_type": "code",
   "execution_count": 10,
   "id": "4e3346dc",
   "metadata": {
    "execution": {
     "iopub.execute_input": "2022-05-29T13:08:57.276116Z",
     "iopub.status.busy": "2022-05-29T13:08:57.275714Z",
     "iopub.status.idle": "2022-05-29T13:08:57.283220Z",
     "shell.execute_reply": "2022-05-29T13:08:57.282202Z"
    },
    "id": "7bZPoKTEKB_U",
    "outputId": "e7b67c3d-6ff7-47cf-e96c-ed8a35ec6a2d",
    "papermill": {
     "duration": 0.023701,
     "end_time": "2022-05-29T13:08:57.285213",
     "exception": false,
     "start_time": "2022-05-29T13:08:57.261512",
     "status": "completed"
    },
    "tags": []
   },
   "outputs": [
    {
     "data": {
      "text/plain": [
       "((2, 3, 4, 5), '-->', (3, 2, 4, 5))"
      ]
     },
     "execution_count": 10,
     "metadata": {},
     "output_type": "execute_result"
    }
   ],
   "source": [
    "tuple(y.shape), \"-->\", tuple(torch.transpose(y, 1, 0).shape)"
   ]
  },
  {
   "cell_type": "code",
   "execution_count": 11,
   "id": "1a1aa9c9",
   "metadata": {
    "execution": {
     "iopub.execute_input": "2022-05-29T13:08:57.313267Z",
     "iopub.status.busy": "2022-05-29T13:08:57.312114Z",
     "iopub.status.idle": "2022-05-29T13:08:57.321601Z",
     "shell.execute_reply": "2022-05-29T13:08:57.320549Z"
    },
    "id": "1GcOK0toKP_N",
    "outputId": "cae147bf-6b49-4d34-cfe2-92b402c613ed",
    "papermill": {
     "duration": 0.025653,
     "end_time": "2022-05-29T13:08:57.323744",
     "exception": false,
     "start_time": "2022-05-29T13:08:57.298091",
     "status": "completed"
    },
    "tags": []
   },
   "outputs": [
    {
     "data": {
      "text/plain": [
       "((2, 3, 4, 5), '-->', (2, 3, 5, 4))"
      ]
     },
     "execution_count": 11,
     "metadata": {},
     "output_type": "execute_result"
    }
   ],
   "source": [
    "tuple(y.shape), \"-->\", tuple(y.mT.shape) # use y.mT instead of y.T ; otherwise use y.permute(*torch.arange(y.ndim - 1, -1, -1))"
   ]
  },
  {
   "cell_type": "markdown",
   "id": "87d15f65",
   "metadata": {
    "id": "Jh84UX9TNdyA",
    "papermill": {
     "duration": 0.012498,
     "end_time": "2022-05-29T13:08:57.349256",
     "exception": false,
     "start_time": "2022-05-29T13:08:57.336758",
     "status": "completed"
    },
    "tags": []
   },
   "source": [
    "But using `torch.transpose()` gives you the option to swap non-adjascent dimensions as well.\n",
    "\n",
    "**Example**:\n",
    "\n",
    "- dims: `(0, 1, 2, 3) --> (2, 1, 0, 3)`\n",
    "- shape: `(2, 3, 4, 5) --> (4, 3, 2, 5)`"
   ]
  },
  {
   "cell_type": "code",
   "execution_count": 12,
   "id": "3ff9ba2c",
   "metadata": {
    "execution": {
     "iopub.execute_input": "2022-05-29T13:08:57.377023Z",
     "iopub.status.busy": "2022-05-29T13:08:57.376210Z",
     "iopub.status.idle": "2022-05-29T13:08:57.382916Z",
     "shell.execute_reply": "2022-05-29T13:08:57.381979Z"
    },
    "id": "wpMgvFy0MP-B",
    "outputId": "09e4bb67-33f1-4c26-f057-40857e030fc9",
    "papermill": {
     "duration": 0.022785,
     "end_time": "2022-05-29T13:08:57.384877",
     "exception": false,
     "start_time": "2022-05-29T13:08:57.362092",
     "status": "completed"
    },
    "tags": []
   },
   "outputs": [
    {
     "data": {
      "text/plain": [
       "((2, 3, 4, 5), '-->', (4, 3, 2, 5))"
      ]
     },
     "execution_count": 12,
     "metadata": {},
     "output_type": "execute_result"
    }
   ],
   "source": [
    "tuple(y.shape), \"-->\", tuple(torch.transpose(y, 2, 0).shape)"
   ]
  },
  {
   "cell_type": "markdown",
   "id": "2bce523f",
   "metadata": {
    "id": "GJZSUyIWYsFa",
    "papermill": {
     "duration": 0.013118,
     "end_time": "2022-05-29T13:08:57.411198",
     "exception": false,
     "start_time": "2022-05-29T13:08:57.398080",
     "status": "completed"
    },
    "tags": []
   },
   "source": [
    "### B.3a. Transposition using `torch.swapaxes()`\n",
    "\n",
    "- Docs: https://pytorch.org/docs/master/generated/torch.swapaxes.html"
   ]
  },
  {
   "cell_type": "code",
   "execution_count": 13,
   "id": "c6c389b6",
   "metadata": {
    "execution": {
     "iopub.execute_input": "2022-05-29T13:08:57.439534Z",
     "iopub.status.busy": "2022-05-29T13:08:57.438718Z",
     "iopub.status.idle": "2022-05-29T13:08:57.445173Z",
     "shell.execute_reply": "2022-05-29T13:08:57.444508Z"
    },
    "id": "U_eQXm4VNa4t",
    "outputId": "ddfcb290-c45b-4968-d4de-ef180a14e15a",
    "papermill": {
     "duration": 0.022602,
     "end_time": "2022-05-29T13:08:57.447030",
     "exception": false,
     "start_time": "2022-05-29T13:08:57.424428",
     "status": "completed"
    },
    "tags": []
   },
   "outputs": [
    {
     "data": {
      "text/plain": [
       "((2, 3, 4, 5), '-->', (3, 2, 4, 5))"
      ]
     },
     "execution_count": 13,
     "metadata": {},
     "output_type": "execute_result"
    }
   ],
   "source": [
    "tuple(y.shape), \"-->\", tuple(torch.swapaxes(y, 0, 1).shape)"
   ]
  },
  {
   "cell_type": "markdown",
   "id": "00420c20",
   "metadata": {
    "id": "5sBveFg_YyKv",
    "papermill": {
     "duration": 0.012957,
     "end_time": "2022-05-29T13:08:57.473518",
     "exception": false,
     "start_time": "2022-05-29T13:08:57.460561",
     "status": "completed"
    },
    "tags": []
   },
   "source": [
    "### B.3b. Transposition using `torch.swapdims()`\n",
    "\n",
    "- Docs: https://pytorch.org/docs/master/generated/torch.swapdims.html"
   ]
  },
  {
   "cell_type": "code",
   "execution_count": 14,
   "id": "002fd513",
   "metadata": {
    "execution": {
     "iopub.execute_input": "2022-05-29T13:08:57.502325Z",
     "iopub.status.busy": "2022-05-29T13:08:57.501371Z",
     "iopub.status.idle": "2022-05-29T13:08:57.509429Z",
     "shell.execute_reply": "2022-05-29T13:08:57.508391Z"
    },
    "id": "kLmL7oWERhac",
    "outputId": "b039b3e2-77d1-4552-896e-ce36abc7f00d",
    "papermill": {
     "duration": 0.024912,
     "end_time": "2022-05-29T13:08:57.511696",
     "exception": false,
     "start_time": "2022-05-29T13:08:57.486784",
     "status": "completed"
    },
    "tags": []
   },
   "outputs": [
    {
     "data": {
      "text/plain": [
       "((2, 3, 4, 5), '-->', (3, 2, 4, 5))"
      ]
     },
     "execution_count": 14,
     "metadata": {},
     "output_type": "execute_result"
    }
   ],
   "source": [
    "tuple(y.shape), \"-->\", tuple(torch.swapdims(y, 0, 1).shape)"
   ]
  },
  {
   "cell_type": "markdown",
   "id": "15e10994",
   "metadata": {
    "id": "mtG7iOv3Y2rf",
    "papermill": {
     "duration": 0.013053,
     "end_time": "2022-05-29T13:08:57.538245",
     "exception": false,
     "start_time": "2022-05-29T13:08:57.525192",
     "status": "completed"
    },
    "tags": []
   },
   "source": [
    "### B.4a. Transposition using `torch.moveaxis()`\n",
    "\n",
    "- Docs: https://pytorch.org/docs/master/generated/torch.moveaxis.html"
   ]
  },
  {
   "cell_type": "code",
   "execution_count": 15,
   "id": "15cb4893",
   "metadata": {
    "execution": {
     "iopub.execute_input": "2022-05-29T13:08:57.566834Z",
     "iopub.status.busy": "2022-05-29T13:08:57.566415Z",
     "iopub.status.idle": "2022-05-29T13:08:57.572570Z",
     "shell.execute_reply": "2022-05-29T13:08:57.571840Z"
    },
    "id": "aZysIeewRlp_",
    "outputId": "4909e5e4-9ba1-442a-d97a-ad163b760674",
    "papermill": {
     "duration": 0.023242,
     "end_time": "2022-05-29T13:08:57.574896",
     "exception": false,
     "start_time": "2022-05-29T13:08:57.551654",
     "status": "completed"
    },
    "tags": []
   },
   "outputs": [
    {
     "data": {
      "text/plain": [
       "((2, 3, 4, 5), '-->', (3, 2, 4, 5))"
      ]
     },
     "execution_count": 15,
     "metadata": {},
     "output_type": "execute_result"
    }
   ],
   "source": [
    "tuple(y.shape), \"-->\", tuple(torch.moveaxis(y, 0, 1).shape)"
   ]
  },
  {
   "cell_type": "markdown",
   "id": "e1986b58",
   "metadata": {
    "id": "4NuIs6U7Y-Cd",
    "papermill": {
     "duration": 0.013071,
     "end_time": "2022-05-29T13:08:57.601355",
     "exception": false,
     "start_time": "2022-05-29T13:08:57.588284",
     "status": "completed"
    },
    "tags": []
   },
   "source": [
    "### B.4b. Transposition using `torch.movedim()`\n",
    "\n",
    "- Docs: https://pytorch.org/docs/master/generated/torch.movedim.html"
   ]
  },
  {
   "cell_type": "code",
   "execution_count": 16,
   "id": "56fa856d",
   "metadata": {
    "execution": {
     "iopub.execute_input": "2022-05-29T13:08:57.629708Z",
     "iopub.status.busy": "2022-05-29T13:08:57.629150Z",
     "iopub.status.idle": "2022-05-29T13:08:57.635925Z",
     "shell.execute_reply": "2022-05-29T13:08:57.635000Z"
    },
    "id": "aF4gvdP_Ru3k",
    "outputId": "2d091c70-03e2-4caa-a681-f89200fffff0",
    "papermill": {
     "duration": 0.023025,
     "end_time": "2022-05-29T13:08:57.637786",
     "exception": false,
     "start_time": "2022-05-29T13:08:57.614761",
     "status": "completed"
    },
    "tags": []
   },
   "outputs": [
    {
     "data": {
      "text/plain": [
       "((2, 3, 4, 5), '-->', (3, 2, 4, 5))"
      ]
     },
     "execution_count": 16,
     "metadata": {},
     "output_type": "execute_result"
    }
   ],
   "source": [
    "tuple(y.shape), \"-->\", tuple(torch.movedim(y, 0, 1).shape)"
   ]
  },
  {
   "cell_type": "markdown",
   "id": "f5d216a7",
   "metadata": {
    "id": "EYrPkKTCWoF5",
    "papermill": {
     "duration": 0.013419,
     "end_time": "2022-05-29T13:08:57.665204",
     "exception": false,
     "start_time": "2022-05-29T13:08:57.651785",
     "status": "completed"
    },
    "tags": []
   },
   "source": [
    "## C. With **Einops**"
   ]
  },
  {
   "cell_type": "markdown",
   "id": "60890e26",
   "metadata": {
    "id": "sKYcwx8iWzgb",
    "papermill": {
     "duration": 0.013151,
     "end_time": "2022-05-29T13:08:57.692549",
     "exception": false,
     "start_time": "2022-05-29T13:08:57.679398",
     "status": "completed"
    },
    "tags": []
   },
   "source": [
    "The intuitive but minimalistic API of `einops` ships out three operations: `rearrange`, `reduce` and `repeat`.\n",
    "\n",
    "The three operations, as shown in `einops` tutorial, cover: \n",
    "- stacking\n",
    "- reshape\n",
    "- transposition\n",
    "- squeeze/unsqueeze\n",
    "- repeat\n",
    "- tile\n",
    "- concatenate\n",
    "- view\n",
    "- numerous reductions\n",
    "\n",
    "Source: https://github.com/arogozhnikov/einops"
   ]
  },
  {
   "cell_type": "code",
   "execution_count": 17,
   "id": "f041e7f4",
   "metadata": {
    "execution": {
     "iopub.execute_input": "2022-05-29T13:08:57.721738Z",
     "iopub.status.busy": "2022-05-29T13:08:57.721135Z",
     "iopub.status.idle": "2022-05-29T13:09:10.940108Z",
     "shell.execute_reply": "2022-05-29T13:09:10.938609Z"
    },
    "id": "OYglL_ecSCbk",
    "papermill": {
     "duration": 13.236702,
     "end_time": "2022-05-29T13:09:10.942698",
     "exception": false,
     "start_time": "2022-05-29T13:08:57.705996",
     "status": "completed"
    },
    "tags": []
   },
   "outputs": [],
   "source": [
    "%%capture\n",
    "! pip install -Uqq einops"
   ]
  },
  {
   "cell_type": "code",
   "execution_count": 18,
   "id": "421cb794",
   "metadata": {
    "execution": {
     "iopub.execute_input": "2022-05-29T13:09:10.973025Z",
     "iopub.status.busy": "2022-05-29T13:09:10.972575Z",
     "iopub.status.idle": "2022-05-29T13:09:10.985785Z",
     "shell.execute_reply": "2022-05-29T13:09:10.984584Z"
    },
    "id": "iSDngGdFRzfn",
    "papermill": {
     "duration": 0.031255,
     "end_time": "2022-05-29T13:09:10.988221",
     "exception": false,
     "start_time": "2022-05-29T13:09:10.956966",
     "status": "completed"
    },
    "tags": []
   },
   "outputs": [],
   "source": [
    "import einops\n",
    "from einops import rearrange\n",
    "from einops.layers.torch import Rearrange # See in einpos docs to know how to use Rearrange"
   ]
  },
  {
   "cell_type": "markdown",
   "id": "b6293576",
   "metadata": {
    "id": "noXl4lDkV4b_",
    "papermill": {
     "duration": 0.013132,
     "end_time": "2022-05-29T13:09:11.015222",
     "exception": false,
     "start_time": "2022-05-29T13:09:11.002090",
     "status": "completed"
    },
    "tags": []
   },
   "source": [
    "Now, that we have seen how to use `einsum()` in both `numpy` and `torch`, you will find the following treatment quite intuitive."
   ]
  },
  {
   "cell_type": "markdown",
   "id": "55975ff0",
   "metadata": {
    "id": "hdushf9BZF3X",
    "papermill": {
     "duration": 0.013304,
     "end_time": "2022-05-29T13:09:11.042183",
     "exception": false,
     "start_time": "2022-05-29T13:09:11.028879",
     "status": "completed"
    },
    "tags": []
   },
   "source": [
    "### Transposition using `einpos.rearrange()`\n",
    "\n",
    "- Docs: \n",
    "  - GitHub: https://github.com/arogozhnikov/einops\n",
    "  - Examples: http://einops.rocks/pytorch-examples.html"
   ]
  },
  {
   "cell_type": "code",
   "execution_count": 19,
   "id": "fc441fec",
   "metadata": {
    "execution": {
     "iopub.execute_input": "2022-05-29T13:09:11.071336Z",
     "iopub.status.busy": "2022-05-29T13:09:11.070768Z",
     "iopub.status.idle": "2022-05-29T13:09:11.078451Z",
     "shell.execute_reply": "2022-05-29T13:09:11.077512Z"
    },
    "id": "2bmWUAE7SBLM",
    "outputId": "bf9dbf6d-60d7-4cf2-d688-3109a93ac049",
    "papermill": {
     "duration": 0.024815,
     "end_time": "2022-05-29T13:09:11.080535",
     "exception": false,
     "start_time": "2022-05-29T13:09:11.055720",
     "status": "completed"
    },
    "tags": []
   },
   "outputs": [
    {
     "data": {
      "text/plain": [
       "((2, 3, 4, 5), '-->', (3, 2, 4, 5))"
      ]
     },
     "execution_count": 19,
     "metadata": {},
     "output_type": "execute_result"
    }
   ],
   "source": [
    "tuple(y.shape), \"-->\", tuple(rearrange(y, 'i j k l -> j i k l').shape)"
   ]
  },
  {
   "cell_type": "markdown",
   "id": "abc65678",
   "metadata": {
    "id": "Vb-m0BntVpgp",
    "papermill": {
     "duration": 0.013399,
     "end_time": "2022-05-29T13:09:11.107783",
     "exception": false,
     "start_time": "2022-05-29T13:09:11.094384",
     "status": "completed"
    },
    "tags": []
   },
   "source": [
    "In fact, you can even use **words** instead of single-characters as indices (see below)."
   ]
  },
  {
   "cell_type": "code",
   "execution_count": 20,
   "id": "56809172",
   "metadata": {
    "execution": {
     "iopub.execute_input": "2022-05-29T13:09:11.137032Z",
     "iopub.status.busy": "2022-05-29T13:09:11.136326Z",
     "iopub.status.idle": "2022-05-29T13:09:11.143639Z",
     "shell.execute_reply": "2022-05-29T13:09:11.142922Z"
    },
    "id": "DMCV3i_VVCC2",
    "outputId": "8157df1e-acf1-496b-e18f-e510951936bf",
    "papermill": {
     "duration": 0.02401,
     "end_time": "2022-05-29T13:09:11.145455",
     "exception": false,
     "start_time": "2022-05-29T13:09:11.121445",
     "status": "completed"
    },
    "tags": []
   },
   "outputs": [
    {
     "data": {
      "text/plain": [
       "((2, 3, 4, 5), '-->', (3, 2, 4, 5))"
      ]
     },
     "execution_count": 20,
     "metadata": {},
     "output_type": "execute_result"
    }
   ],
   "source": [
    "tuple(y.shape), \"-->\", tuple(rearrange(y, 'time channel h w -> channel time h w').shape)"
   ]
  },
  {
   "cell_type": "code",
   "execution_count": 21,
   "id": "d9c3b345",
   "metadata": {
    "execution": {
     "iopub.execute_input": "2022-05-29T13:09:11.175357Z",
     "iopub.status.busy": "2022-05-29T13:09:11.174328Z",
     "iopub.status.idle": "2022-05-29T13:09:22.507461Z",
     "shell.execute_reply": "2022-05-29T13:09:22.506186Z"
    },
    "id": "mVeDKGGkVn93",
    "papermill": {
     "duration": 11.350478,
     "end_time": "2022-05-29T13:09:22.509814",
     "exception": false,
     "start_time": "2022-05-29T13:09:11.159336",
     "status": "completed"
    },
    "tags": []
   },
   "outputs": [],
   "source": [
    "%%capture\n",
    "! pip install -Uqq watermark"
   ]
  },
  {
   "cell_type": "code",
   "execution_count": 22,
   "id": "f3722b7d",
   "metadata": {
    "execution": {
     "iopub.execute_input": "2022-05-29T13:09:22.540554Z",
     "iopub.status.busy": "2022-05-29T13:09:22.539887Z",
     "iopub.status.idle": "2022-05-29T13:09:23.286497Z",
     "shell.execute_reply": "2022-05-29T13:09:23.285545Z"
    },
    "papermill": {
     "duration": 0.764876,
     "end_time": "2022-05-29T13:09:23.289125",
     "exception": false,
     "start_time": "2022-05-29T13:09:22.524249",
     "status": "completed"
    },
    "tags": []
   },
   "outputs": [
    {
     "name": "stdout",
     "output_type": "stream",
     "text": [
      "/bin/bash: watermark: command not found\r\n"
     ]
    }
   ],
   "source": [
    "! watermark --help"
   ]
  },
  {
   "cell_type": "markdown",
   "id": "9f96df7e",
   "metadata": {
    "papermill": {
     "duration": 0.016728,
     "end_time": "2022-05-29T13:09:23.323313",
     "exception": false,
     "start_time": "2022-05-29T13:09:23.306585",
     "status": "completed"
    },
    "tags": []
   },
   "source": [
    "## D. Store Notebook Environment Details"
   ]
  },
  {
   "cell_type": "code",
   "execution_count": 23,
   "id": "b35a28db",
   "metadata": {
    "execution": {
     "iopub.execute_input": "2022-05-29T13:09:23.360112Z",
     "iopub.status.busy": "2022-05-29T13:09:23.359030Z",
     "iopub.status.idle": "2022-05-29T13:09:23.392532Z",
     "shell.execute_reply": "2022-05-29T13:09:23.391687Z"
    },
    "papermill": {
     "duration": 0.054733,
     "end_time": "2022-05-29T13:09:23.395035",
     "exception": false,
     "start_time": "2022-05-29T13:09:23.340302",
     "status": "completed"
    },
    "tags": []
   },
   "outputs": [],
   "source": [
    "import watermark as wm"
   ]
  },
  {
   "cell_type": "code",
   "execution_count": 24,
   "id": "7ad11459",
   "metadata": {
    "execution": {
     "iopub.execute_input": "2022-05-29T13:09:23.424324Z",
     "iopub.status.busy": "2022-05-29T13:09:23.423957Z",
     "iopub.status.idle": "2022-05-29T13:09:23.434557Z",
     "shell.execute_reply": "2022-05-29T13:09:23.433391Z"
    },
    "papermill": {
     "duration": 0.027941,
     "end_time": "2022-05-29T13:09:23.436881",
     "exception": false,
     "start_time": "2022-05-29T13:09:23.408940",
     "status": "completed"
    },
    "tags": []
   },
   "outputs": [
    {
     "name": "stdout",
     "output_type": "stream",
     "text": [
      "numpy    : 1.21.6\n",
      "watermark: 2.3.1\n",
      "einops   : 0.4.1\n",
      "torch    : 1.11.0+cpu\n",
      "\n"
     ]
    }
   ],
   "source": [
    "print(wm.watermark(iversions=True, globals_=globals()))"
   ]
  },
  {
   "cell_type": "code",
   "execution_count": null,
   "id": "64dfdc68",
   "metadata": {
    "papermill": {
     "duration": 0.013719,
     "end_time": "2022-05-29T13:09:23.465506",
     "exception": false,
     "start_time": "2022-05-29T13:09:23.451787",
     "status": "completed"
    },
    "tags": []
   },
   "outputs": [],
   "source": []
  }
 ],
 "metadata": {
  "kernelspec": {
   "display_name": "Python 3",
   "language": "python",
   "name": "python3"
  },
  "language_info": {
   "codemirror_mode": {
    "name": "ipython",
    "version": 3
   },
   "file_extension": ".py",
   "mimetype": "text/x-python",
   "name": "python",
   "nbconvert_exporter": "python",
   "pygments_lexer": "ipython3",
   "version": "3.7.12"
  },
  "papermill": {
   "default_parameters": {},
   "duration": 39.89044,
   "end_time": "2022-05-29T13:09:24.402778",
   "environment_variables": {},
   "exception": null,
   "input_path": "__notebook__.ipynb",
   "output_path": "__notebook__.ipynb",
   "parameters": {},
   "start_time": "2022-05-29T13:08:44.512338",
   "version": "2.3.4"
  }
 },
 "nbformat": 4,
 "nbformat_minor": 5
}
